{
 "cells": [
  {
   "cell_type": "markdown",
   "metadata": {},
   "source": [
    "# Yelp Data Challenge - Clustering and PCA\n",
    "\n",
    "BitTiger DS501-1802\n",
    "\n",
    "May 2018\n",
    "\n",
    "Yan Wei"
   ]
  },
  {
   "cell_type": "code",
   "execution_count": 1,
   "metadata": {
    "collapsed": true
   },
   "outputs": [],
   "source": [
    "import pandas as pd\n",
    "import numpy as np\n",
    "import matplotlib.pyplot as plt\n",
    "% matplotlib inline\n",
    "plt.style.use(\"ggplot\")"
   ]
  },
  {
   "cell_type": "code",
   "execution_count": 2,
   "metadata": {
    "collapsed": true
   },
   "outputs": [],
   "source": [
    "df = pd.read_csv('data/last_2_years_restaurant_reviews.csv')"
   ]
  },
  {
   "cell_type": "code",
   "execution_count": 3,
   "metadata": {},
   "outputs": [
    {
     "data": {
      "text/html": [
       "<div>\n",
       "<style>\n",
       "    .dataframe thead tr:only-child th {\n",
       "        text-align: right;\n",
       "    }\n",
       "\n",
       "    .dataframe thead th {\n",
       "        text-align: left;\n",
       "    }\n",
       "\n",
       "    .dataframe tbody tr th {\n",
       "        vertical-align: top;\n",
       "    }\n",
       "</style>\n",
       "<table border=\"1\" class=\"dataframe\">\n",
       "  <thead>\n",
       "    <tr style=\"text-align: right;\">\n",
       "      <th></th>\n",
       "      <th>business_id</th>\n",
       "      <th>name</th>\n",
       "      <th>categories</th>\n",
       "      <th>avg_stars</th>\n",
       "      <th>cool</th>\n",
       "      <th>date</th>\n",
       "      <th>funny</th>\n",
       "      <th>review_id</th>\n",
       "      <th>stars</th>\n",
       "      <th>text</th>\n",
       "      <th>useful</th>\n",
       "      <th>user_id</th>\n",
       "      <th>date_new</th>\n",
       "    </tr>\n",
       "  </thead>\n",
       "  <tbody>\n",
       "    <tr>\n",
       "      <th>0</th>\n",
       "      <td>--9e1ONYQuAa-CB_Rrw7Tw</td>\n",
       "      <td>Delmonico Steakhouse</td>\n",
       "      <td>['Cajun/Creole', 'Steakhouses', 'Restaurants']</td>\n",
       "      <td>4.0</td>\n",
       "      <td>0</td>\n",
       "      <td>2016-03-31</td>\n",
       "      <td>0</td>\n",
       "      <td>6SgvNWJltnZhW7duJgZ42w</td>\n",
       "      <td>5</td>\n",
       "      <td>This is mine and my fiancé's favorite steakhou...</td>\n",
       "      <td>0</td>\n",
       "      <td>oFyOUOeGTRZhFPF9uTqrTQ</td>\n",
       "      <td>2016-03-31</td>\n",
       "    </tr>\n",
       "    <tr>\n",
       "      <th>1</th>\n",
       "      <td>--9e1ONYQuAa-CB_Rrw7Tw</td>\n",
       "      <td>Delmonico Steakhouse</td>\n",
       "      <td>['Cajun/Creole', 'Steakhouses', 'Restaurants']</td>\n",
       "      <td>4.0</td>\n",
       "      <td>0</td>\n",
       "      <td>2015-06-29</td>\n",
       "      <td>0</td>\n",
       "      <td>iwx6s6yQxc7yjS7NFANZig</td>\n",
       "      <td>4</td>\n",
       "      <td>Nice atmosphere and wonderful service. I had t...</td>\n",
       "      <td>0</td>\n",
       "      <td>2aeNFntqY2QDZLADNo8iQQ</td>\n",
       "      <td>2015-06-29</td>\n",
       "    </tr>\n",
       "    <tr>\n",
       "      <th>2</th>\n",
       "      <td>--9e1ONYQuAa-CB_Rrw7Tw</td>\n",
       "      <td>Delmonico Steakhouse</td>\n",
       "      <td>['Cajun/Creole', 'Steakhouses', 'Restaurants']</td>\n",
       "      <td>4.0</td>\n",
       "      <td>0</td>\n",
       "      <td>2015-03-16</td>\n",
       "      <td>0</td>\n",
       "      <td>UVUMu_bELdA56Ryfbur-DA</td>\n",
       "      <td>5</td>\n",
       "      <td>Every year a group of us (we had 6 this year) ...</td>\n",
       "      <td>1</td>\n",
       "      <td>gmPP4YFrgYsYQqPYokMgFA</td>\n",
       "      <td>2015-03-16</td>\n",
       "    </tr>\n",
       "    <tr>\n",
       "      <th>3</th>\n",
       "      <td>--9e1ONYQuAa-CB_Rrw7Tw</td>\n",
       "      <td>Delmonico Steakhouse</td>\n",
       "      <td>['Cajun/Creole', 'Steakhouses', 'Restaurants']</td>\n",
       "      <td>4.0</td>\n",
       "      <td>0</td>\n",
       "      <td>2016-02-10</td>\n",
       "      <td>0</td>\n",
       "      <td>UxFpgng8dPMWOj99653k5Q</td>\n",
       "      <td>5</td>\n",
       "      <td>Truly Fantastic!  Best Steak ever. Service was...</td>\n",
       "      <td>0</td>\n",
       "      <td>aVOGlN9fZ-BXcbtj6dbf0g</td>\n",
       "      <td>2016-02-10</td>\n",
       "    </tr>\n",
       "    <tr>\n",
       "      <th>4</th>\n",
       "      <td>--9e1ONYQuAa-CB_Rrw7Tw</td>\n",
       "      <td>Delmonico Steakhouse</td>\n",
       "      <td>['Cajun/Creole', 'Steakhouses', 'Restaurants']</td>\n",
       "      <td>4.0</td>\n",
       "      <td>0</td>\n",
       "      <td>2017-02-14</td>\n",
       "      <td>0</td>\n",
       "      <td>Xp3ppynEvVu1KxDHQ3ae8w</td>\n",
       "      <td>5</td>\n",
       "      <td>Delmonico Steakhouse is a steakhouse owned by ...</td>\n",
       "      <td>0</td>\n",
       "      <td>KC8H7qTZVPIEnanw9fG43g</td>\n",
       "      <td>2017-02-14</td>\n",
       "    </tr>\n",
       "  </tbody>\n",
       "</table>\n",
       "</div>"
      ],
      "text/plain": [
       "              business_id                  name  \\\n",
       "0  --9e1ONYQuAa-CB_Rrw7Tw  Delmonico Steakhouse   \n",
       "1  --9e1ONYQuAa-CB_Rrw7Tw  Delmonico Steakhouse   \n",
       "2  --9e1ONYQuAa-CB_Rrw7Tw  Delmonico Steakhouse   \n",
       "3  --9e1ONYQuAa-CB_Rrw7Tw  Delmonico Steakhouse   \n",
       "4  --9e1ONYQuAa-CB_Rrw7Tw  Delmonico Steakhouse   \n",
       "\n",
       "                                       categories  avg_stars  cool  \\\n",
       "0  ['Cajun/Creole', 'Steakhouses', 'Restaurants']        4.0     0   \n",
       "1  ['Cajun/Creole', 'Steakhouses', 'Restaurants']        4.0     0   \n",
       "2  ['Cajun/Creole', 'Steakhouses', 'Restaurants']        4.0     0   \n",
       "3  ['Cajun/Creole', 'Steakhouses', 'Restaurants']        4.0     0   \n",
       "4  ['Cajun/Creole', 'Steakhouses', 'Restaurants']        4.0     0   \n",
       "\n",
       "         date  funny               review_id  stars  \\\n",
       "0  2016-03-31      0  6SgvNWJltnZhW7duJgZ42w      5   \n",
       "1  2015-06-29      0  iwx6s6yQxc7yjS7NFANZig      4   \n",
       "2  2015-03-16      0  UVUMu_bELdA56Ryfbur-DA      5   \n",
       "3  2016-02-10      0  UxFpgng8dPMWOj99653k5Q      5   \n",
       "4  2017-02-14      0  Xp3ppynEvVu1KxDHQ3ae8w      5   \n",
       "\n",
       "                                                text  useful  \\\n",
       "0  This is mine and my fiancé's favorite steakhou...       0   \n",
       "1  Nice atmosphere and wonderful service. I had t...       0   \n",
       "2  Every year a group of us (we had 6 this year) ...       1   \n",
       "3  Truly Fantastic!  Best Steak ever. Service was...       0   \n",
       "4  Delmonico Steakhouse is a steakhouse owned by ...       0   \n",
       "\n",
       "                  user_id    date_new  \n",
       "0  oFyOUOeGTRZhFPF9uTqrTQ  2016-03-31  \n",
       "1  2aeNFntqY2QDZLADNo8iQQ  2015-06-29  \n",
       "2  gmPP4YFrgYsYQqPYokMgFA  2015-03-16  \n",
       "3  aVOGlN9fZ-BXcbtj6dbf0g  2016-02-10  \n",
       "4  KC8H7qTZVPIEnanw9fG43g  2017-02-14  "
      ]
     },
     "execution_count": 3,
     "metadata": {},
     "output_type": "execute_result"
    }
   ],
   "source": [
    "df.head()"
   ]
  },
  {
   "cell_type": "markdown",
   "metadata": {},
   "source": [
    "## 1. Cluster the review text data for all the restaurants"
   ]
  },
  {
   "cell_type": "markdown",
   "metadata": {},
   "source": [
    "### Define your feature variables, here is the text of the review"
   ]
  },
  {
   "cell_type": "code",
   "execution_count": 4,
   "metadata": {
    "collapsed": true
   },
   "outputs": [],
   "source": [
    "# Take the values of the column that contains review text data, save to a variable named \"documents\"\n",
    "documents = df['text'].values"
   ]
  },
  {
   "cell_type": "markdown",
   "metadata": {},
   "source": [
    "### Define your target variable (any categorical variable that may be meaningful)"
   ]
  },
  {
   "cell_type": "markdown",
   "metadata": {},
   "source": [
    "#### For example, I am interested in perfect (5 stars) and imperfect (1-4 stars) rating"
   ]
  },
  {
   "cell_type": "code",
   "execution_count": 11,
   "metadata": {
    "collapsed": true
   },
   "outputs": [],
   "source": [
    "# Make a column and take the values, save to a variable named \"target\"\n",
    "df['simple_rating'] = df['stars'] == 5"
   ]
  },
  {
   "cell_type": "code",
   "execution_count": 13,
   "metadata": {
    "collapsed": true
   },
   "outputs": [],
   "source": [
    "target = df['simple_rating'].values"
   ]
  },
  {
   "cell_type": "code",
   "execution_count": 15,
   "metadata": {},
   "outputs": [
    {
     "data": {
      "text/plain": [
       "array([ True, False,  True,  True,  True], dtype=bool)"
      ]
     },
     "execution_count": 15,
     "metadata": {},
     "output_type": "execute_result"
    }
   ],
   "source": [
    "target[:5]"
   ]
  },
  {
   "cell_type": "markdown",
   "metadata": {},
   "source": [
    "#### You may want to look at the statistic of the target variable"
   ]
  },
  {
   "cell_type": "code",
   "execution_count": 17,
   "metadata": {},
   "outputs": [
    {
     "data": {
      "text/plain": [
       "0.46397299477268145"
      ]
     },
     "execution_count": 17,
     "metadata": {},
     "output_type": "execute_result"
    }
   ],
   "source": [
    "# To be implemented\n",
    "target.mean()"
   ]
  },
  {
   "cell_type": "markdown",
   "metadata": {},
   "source": [
    "### Create training dataset and test dataset"
   ]
  },
  {
   "cell_type": "code",
   "execution_count": 18,
   "metadata": {},
   "outputs": [
    {
     "name": "stderr",
     "output_type": "stream",
     "text": [
      "/anaconda3/lib/python3.6/site-packages/sklearn/cross_validation.py:41: DeprecationWarning: This module was deprecated in version 0.18 in favor of the model_selection module into which all the refactored classes and functions are moved. Also note that the interface of the new CV iterators are different from that of this module. This module will be removed in 0.20.\n",
      "  \"This module will be removed in 0.20.\", DeprecationWarning)\n"
     ]
    }
   ],
   "source": [
    "from sklearn.cross_validation import train_test_split"
   ]
  },
  {
   "cell_type": "code",
   "execution_count": 23,
   "metadata": {
    "collapsed": true
   },
   "outputs": [],
   "source": [
    "# documents is your X, target is your y\n",
    "# Now split the data to training set and test set\n",
    "# You may want to start with a big \"test_size\", since large training set can easily crash your laptop.\n",
    "documents_train, documents_test, target_train, target_test = train_test_split(documents, target, test_size = 0.99)"
   ]
  },
  {
   "cell_type": "code",
   "execution_count": null,
   "metadata": {
    "collapsed": true
   },
   "outputs": [],
   "source": [
    "# Get NLP representation of the documents\n",
    "\n",
    "#### Fit TfidfVectorizer with training data only, then tranform all the data to tf-idf"
   ]
  },
  {
   "cell_type": "code",
   "execution_count": 20,
   "metadata": {
    "collapsed": true
   },
   "outputs": [],
   "source": [
    "from sklearn.feature_extraction.text import TfidfVectorizer"
   ]
  },
  {
   "cell_type": "code",
   "execution_count": 24,
   "metadata": {
    "collapsed": true
   },
   "outputs": [],
   "source": [
    "# Create TfidfVectorizer, and name it vectorizer, choose a reasonable max_features, e.g. 1000\n",
    "from nltk.corpus import stopwords\n",
    "vectorizer = TfidfVectorizer(stop_words = stopwords.words('english'), max_features = 1000)"
   ]
  },
  {
   "cell_type": "code",
   "execution_count": 25,
   "metadata": {
    "collapsed": true,
    "scrolled": true
   },
   "outputs": [],
   "source": [
    "# Train the model with your training data\n",
    "vectors = vectorizer.fit_transform(documents_train).toarray()"
   ]
  },
  {
   "cell_type": "code",
   "execution_count": 26,
   "metadata": {
    "collapsed": true
   },
   "outputs": [],
   "source": [
    "# Get the vocab of your tfidf\n",
    "words = vectorizer.get_feature_names()"
   ]
  },
  {
   "cell_type": "code",
   "execution_count": 27,
   "metadata": {
    "collapsed": true
   },
   "outputs": [],
   "source": [
    "# Use the trained model to transform all the reviews\n",
    "X_test = vectorizer.transform(documents_test)"
   ]
  },
  {
   "cell_type": "markdown",
   "metadata": {},
   "source": [
    "### Cluster reviews with KMeans"
   ]
  },
  {
   "cell_type": "markdown",
   "metadata": {},
   "source": [
    "#### Fit k-means clustering with the training vectors and apply it on all the data"
   ]
  },
  {
   "cell_type": "code",
   "execution_count": 30,
   "metadata": {
    "collapsed": true
   },
   "outputs": [],
   "source": [
    "X = vectors\n",
    "y = target_train\n",
    "X_test = X_test\n",
    "y_test = target_test"
   ]
  },
  {
   "cell_type": "code",
   "execution_count": 94,
   "metadata": {},
   "outputs": [
    {
     "data": {
      "text/plain": [
       "KMeans(algorithm='auto', copy_x=True, init='k-means++', max_iter=300,\n",
       "    n_clusters=8, n_init=10, n_jobs=1, precompute_distances='auto',\n",
       "    random_state=None, tol=0.0001, verbose=0)"
      ]
     },
     "execution_count": 94,
     "metadata": {},
     "output_type": "execute_result"
    }
   ],
   "source": [
    "# To be implemented\n",
    "from sklearn.cluster import KMeans\n",
    "\n",
    "kmeans = KMeans()\n",
    "\n",
    "kmeans.fit(X)"
   ]
  },
  {
   "cell_type": "markdown",
   "metadata": {},
   "source": [
    "#### Make predictions on all your data"
   ]
  },
  {
   "cell_type": "code",
   "execution_count": 32,
   "metadata": {
    "collapsed": true
   },
   "outputs": [],
   "source": [
    "# To be implemented\n",
    "predict = kmeans.predict(X_test)"
   ]
  },
  {
   "cell_type": "code",
   "execution_count": 33,
   "metadata": {},
   "outputs": [
    {
     "data": {
      "text/plain": [
       "(510595,)"
      ]
     },
     "execution_count": 33,
     "metadata": {},
     "output_type": "execute_result"
    }
   ],
   "source": [
    "predict.shape"
   ]
  },
  {
   "cell_type": "code",
   "execution_count": 34,
   "metadata": {},
   "outputs": [
    {
     "data": {
      "text/plain": [
       "(5157, 1000)"
      ]
     },
     "execution_count": 34,
     "metadata": {},
     "output_type": "execute_result"
    }
   ],
   "source": [
    "X.shape"
   ]
  },
  {
   "cell_type": "markdown",
   "metadata": {},
   "source": [
    "#### Inspect the centroids\n",
    "To find out what \"topics\" Kmeans has discovered we must inspect the centroids. Print out the centroids of the Kmeans clustering.\n",
    "\n",
    "   These centroids are simply a bunch of vectors.  To make any sense of them we need to map these vectors back into our 'word space'.  Think of each feature/dimension of the centroid vector as representing the \"average\" review or the average occurances of words for that cluster."
   ]
  },
  {
   "cell_type": "code",
   "execution_count": 95,
   "metadata": {},
   "outputs": [
    {
     "name": "stdout",
     "output_type": "stream",
     "text": [
      "cluster centers:\n",
      "\n",
      "[[ 0.00246409  0.00690138  0.00089777 ...,  0.00197671  0.00350419\n",
      "   0.00706658]\n",
      " [ 0.00105666  0.00416204  0.00099533 ...,  0.00097387  0.00188804\n",
      "   0.00471697]\n",
      " [ 0.00282328  0.02077862  0.0037536  ...,  0.00466707  0.00169266\n",
      "   0.00204031]\n",
      " ..., \n",
      " [ 0.00049766  0.00346777  0.00107839 ...,  0.0015817   0.00112433\n",
      "   0.00547295]\n",
      " [ 0.00290214  0.00840249  0.00100114 ...,  0.00131627  0.00489353\n",
      "   0.00826077]\n",
      " [ 0.00330327  0.0054533   0.00236039 ...,  0.00107655  0.00254509\n",
      "   0.00336855]]\n"
     ]
    }
   ],
   "source": [
    "# To be implemented\n",
    "print('cluster centers:\\n')\n",
    "print(kmeans.cluster_centers_)"
   ]
  },
  {
   "cell_type": "markdown",
   "metadata": {},
   "source": [
    "#### Find the top 10 features for each cluster.\n",
    "For topics we are only really interested in the most present words, i.e. features/dimensions with the greatest representation in the centroid.  Print out the top ten words for each centroid.\n",
    "\n",
    "* Sort each centroid vector to find the top 10 features\n",
    "* Go back to your vectorizer object to find out what words each of these features corresponds to.\n"
   ]
  },
  {
   "cell_type": "code",
   "execution_count": 96,
   "metadata": {},
   "outputs": [
    {
     "data": {
      "text/plain": [
       "(8, 1000)"
      ]
     },
     "execution_count": 96,
     "metadata": {},
     "output_type": "execute_result"
    }
   ],
   "source": [
    "kmeans.cluster_centers_.shape"
   ]
  },
  {
   "cell_type": "code",
   "execution_count": 97,
   "metadata": {},
   "outputs": [
    {
     "name": "stdout",
     "output_type": "stream",
     "text": [
      "Top 10 features for each cluster: \n",
      "\n",
      "cluster # 1: good, food, really, place, service, nice, pretty, like, great, would\n",
      "cluster # 2: love, best, place, vegas, always, food, amazing, go, las, service\n",
      "cluster # 3: us, food, order, service, minutes, time, came, get, even, table\n",
      "cluster # 4: burger, fries, burgers, good, place, shake, cheese, great, food, one\n",
      "cluster # 5: sushi, roll, rolls, great, place, eat, fresh, good, ayce, best\n",
      "cluster # 6: great, food, service, place, awesome, definitely, friendly, back, time, staff\n",
      "cluster # 7: chicken, food, place, like, ordered, good, one, delicious, get, go\n",
      "cluster # 8: pizza, good, crust, cheese, place, great, like, slice, ordered, best\n"
     ]
    }
   ],
   "source": [
    "top_centroids = kmeans.cluster_centers_.argsort()[:,-1:-11:-1]\n",
    "print('Top 10 features for each cluster: \\n')\n",
    "for num, centroid in enumerate(top_centroids):\n",
    "    print('cluster # %d: %s' % (num+1, ', '.join(words[i] for i in centroid)))"
   ]
  },
  {
   "cell_type": "code",
   "execution_count": 98,
   "metadata": {},
   "outputs": [
    {
     "name": "stdout",
     "output_type": "stream",
     "text": [
      "[[367 324 683 633 760 561 659 470 371 987]\n",
      " [493  85 633 935  31 324  32 363 454 760]\n",
      " [927 324 591 760 532 885 131 352 272 850]\n",
      " [116 340 117 367 633 765 147 371 324 580]\n",
      " [848 713 714 371 633 251 334 367  62  85]\n",
      " [371 324 760 633  60 216 338  64 885 817]\n",
      " [150 324 633 470 592 367 580 217 352 363]\n",
      " [632 367 198 147 633 371 470 784 592  85]]\n"
     ]
    }
   ],
   "source": [
    "print(top_centroids)"
   ]
  },
  {
   "cell_type": "markdown",
   "metadata": {},
   "source": [
    "#### Try different k\n",
    "If you set k == to a different number, how does the top features change?"
   ]
  },
  {
   "cell_type": "code",
   "execution_count": 99,
   "metadata": {},
   "outputs": [
    {
     "data": {
      "text/plain": [
       "KMeans(algorithm='auto', copy_x=True, init='k-means++', max_iter=300,\n",
       "    n_clusters=5, n_init=10, n_jobs=1, precompute_distances='auto',\n",
       "    random_state=None, tol=0.0001, verbose=0)"
      ]
     },
     "execution_count": 99,
     "metadata": {},
     "output_type": "execute_result"
    }
   ],
   "source": [
    "kmeans_5 = KMeans(n_clusters = 5)\n",
    "\n",
    "kmeans_5.fit(X)"
   ]
  },
  {
   "cell_type": "code",
   "execution_count": 100,
   "metadata": {
    "collapsed": true
   },
   "outputs": [],
   "source": [
    "predict = kmeans_5.predict(X_test)"
   ]
  },
  {
   "cell_type": "code",
   "execution_count": 101,
   "metadata": {},
   "outputs": [
    {
     "name": "stdout",
     "output_type": "stream",
     "text": [
      "Top 8 features for each cluster: \n",
      "\n",
      "cluster # 1: chicken, good, rice, thai, fried, food, ordered, salad\n",
      "cluster # 2: good, food, place, like, time, service, get, one\n",
      "cluster # 3: pizza, good, great, crust, cheese, place, like, slice\n",
      "cluster # 4: great, food, place, service, love, amazing, good, friendly\n",
      "cluster # 5: burger, fries, burgers, good, place, shake, one, got\n"
     ]
    }
   ],
   "source": [
    "feature_num = 8\n",
    "top_centroids = kmeans_5.cluster_centers_.argsort()[:,-1:-(feature_num+1):-1]\n",
    "print('Top %d features for each cluster: \\n' % (feature_num))\n",
    "for num, centroid in enumerate(top_centroids):\n",
    "    print('cluster # %d: %s' % (num+1, ', '.join(words[i] for i in centroid)))"
   ]
  },
  {
   "cell_type": "markdown",
   "metadata": {},
   "source": [
    "#### Print out the rating and review of a random sample of the reviews assigned to each cluster to get a sense of the cluster."
   ]
  },
  {
   "cell_type": "code",
   "execution_count": 103,
   "metadata": {
    "collapsed": true
   },
   "outputs": [],
   "source": [
    "assigned_cluster = kmeans.transform(X).argmin(axis = 1)"
   ]
  },
  {
   "cell_type": "code",
   "execution_count": 104,
   "metadata": {},
   "outputs": [
    {
     "data": {
      "text/plain": [
       "(5157,)"
      ]
     },
     "execution_count": 104,
     "metadata": {},
     "output_type": "execute_result"
    }
   ],
   "source": [
    "assigned_cluster.shape"
   ]
  },
  {
   "cell_type": "code",
   "execution_count": 105,
   "metadata": {},
   "outputs": [
    {
     "data": {
      "text/plain": [
       "(5157,)"
      ]
     },
     "execution_count": 105,
     "metadata": {},
     "output_type": "execute_result"
    }
   ],
   "source": [
    "documents_train.shape"
   ]
  },
  {
   "cell_type": "code",
   "execution_count": 106,
   "metadata": {},
   "outputs": [
    {
     "name": "stdout",
     "output_type": "stream",
     "text": [
      "cluster # 1:\n",
      "     rating: 3 stars\n",
      "     review: Buffets are buffets, you tend to eat too much and come out feeling slightly ill. As buffets go this one was okay. Yummy smoked salmon by the sushi, the roast beef was a bit tough but tasted great with the sauerkraut.  Fried prawns were worth the short wait, the snow crab legs a bit average.  All and all a good meal but nothing amazing \n",
      "\n",
      "cluster # 2:\n",
      "     rating: 5 stars\n",
      "     review: We had lunch twice during my vacation in Vegas and both experiences were excellent! The staff was very friendly and attentive.  We were a group of 9 and we were still taken care of almost immediately. This location is inside the Venetian Hotel feeling like you are in Italy! We were also lucky enough to enjoy a show right before sitting down for lunch! If you are in the area I recommend for you to stop by and enjoy lunch or dinner! \n",
      "\n",
      "cluster # 3:\n",
      "     rating: 5 stars\n",
      "     review: Why are you looking at reviews? You already know this shits bomb. The employees at this location are SO nice. Don't go to Tropicana they low key dicks there /: \n",
      "\n",
      "cluster # 4:\n",
      "     rating: 5 stars\n",
      "     review: I'm from Asia where we take our ramen pretty seriously. These guys weren't messing about either. I went with the tonkotsu shio which is pretty much their signature ramen. \n",
      "The broth was rich, heavy and just a little sticky as pork broth that's been bubbling for 20 hrs should. The two different types of pork were just heavenly and melted away with each chew. \n",
      "Finally, my personal favourite is the marinated egg. Just to die for. \n",
      "Bachi has always been whipping out awesome burgers and I was pleasantly surprised with the quality of this hearty bowl that left me with a warm comfortable feeling. \n",
      "Oh and the IPA beer paired surprisingly well with the noodles. \n",
      "Great job!! \n",
      "\n",
      "cluster # 5:\n",
      "     rating: 4 stars\n",
      "     review: Food is pretty tasty.  I've tried their chicken appetizer and it's very crispy and flavorful.  The spring rolls are come out fresh when ordered.  Their ramen is not quite up to par than the one I go to in San Jose.  It was a bit bland.  Their mongolian beef is served with rice and is not too bad.  The chicken teriyaki bowl is also not too bad.  If you check in via Yelp you get a free edimame appetizer.  The place is pretty busy so we've only sat in the bar area but it's pretty cool because you get to watch the cooks. \n",
      "\n",
      "cluster # 6:\n",
      "     rating: 5 stars\n",
      "     review: The filet was great. Cooked perfect and tasty. The sides, baked potato and onion rings, were als0 wonderful.\n",
      "\n",
      "All at a great price.\n",
      "\n",
      "I will return\n",
      "\n",
      "F \n",
      "\n",
      "cluster # 7:\n",
      "     rating: 5 stars\n",
      "     review: I have never had a bad experience at any SmashBurger. The staff is always friendly, polite and courtesy. The manager that use to be at this location was always extremely nice as well. I encounter her at this location and the one on Fort Apache and Tropicana.\n",
      "\n",
      " Carrie helped me out today. She offer products that I ended up ordering. She greeted me when I walked in. She got my complicated order correct and I appreciate that. Her manager even came out to check if she needed any help. I just wanted to give Kudos to Carrie and your company. \n",
      "The salted caramel shakes are great. Don't forget to always add smash fries to you order. You cannot go wrong with Rosemary and garlic. \n",
      "\n",
      "cluster # 8:\n",
      "     rating: 3 stars\n",
      "     review: The service is so nice but the omelet had unmixed eggs in it and the potatoes were quite raw and crunchy and cold. The mushrooms and Swiss cheese was in abundance. \n",
      "\n"
     ]
    }
   ],
   "source": [
    "# To be implemented\n",
    "for i in range(kmeans.n_clusters):\n",
    "    cluster_index = np.arange(0, X.shape[0])[assigned_cluster == i]\n",
    "    sample_review_index = np.random.choice(cluster_index)\n",
    "    print('cluster # %d:' % (i+1))\n",
    "    print('     rating: %d stars' % (df.ix[sample_review_index,'stars']))\n",
    "    print('     review: %s \\n' % (df.ix[sample_review_index,'text']))"
   ]
  },
  {
   "cell_type": "markdown",
   "metadata": {},
   "source": [
    "## 2. Cluster all the reviews of the most reviewed restaurant\n",
    "Let's find the most reviewed restaurant and analyze its reviews"
   ]
  },
  {
   "cell_type": "code",
   "execution_count": 113,
   "metadata": {},
   "outputs": [
    {
     "data": {
      "text/plain": [
       "RESDUcs7fIiihp38-d6_6g    4059\n",
       "hihud--QRriCYZw1zZvW4g    3156\n",
       "4JNXUYY8wbaaDmk3BPzlWw    2999\n",
       "cYwJA2A6I12KNkm2rtXd5g    2983\n",
       "f4x1YBxkLrZg652xt2KR5g    2744\n",
       "Name: business_id, dtype: int64"
      ]
     },
     "execution_count": 113,
     "metadata": {},
     "output_type": "execute_result"
    }
   ],
   "source": [
    "# Find the business who got most reviews, get your filtered df, name it df_top_restaurant\n",
    "df['business_id'].value_counts().head()\n"
   ]
  },
  {
   "cell_type": "code",
   "execution_count": 114,
   "metadata": {},
   "outputs": [
    {
     "data": {
      "text/plain": [
       "'RESDUcs7fIiihp38-d6_6g'"
      ]
     },
     "execution_count": 114,
     "metadata": {},
     "output_type": "execute_result"
    }
   ],
   "source": [
    "df['business_id'].value_counts().argmax()"
   ]
  },
  {
   "cell_type": "code",
   "execution_count": 187,
   "metadata": {
    "collapsed": true
   },
   "outputs": [],
   "source": [
    "df_top_restaurant = df[df['business_id'] == 'RESDUcs7fIiihp38-d6_6g'].copy().reset_index()"
   ]
  },
  {
   "cell_type": "code",
   "execution_count": 188,
   "metadata": {},
   "outputs": [
    {
     "data": {
      "text/html": [
       "<div>\n",
       "<style>\n",
       "    .dataframe thead tr:only-child th {\n",
       "        text-align: right;\n",
       "    }\n",
       "\n",
       "    .dataframe thead th {\n",
       "        text-align: left;\n",
       "    }\n",
       "\n",
       "    .dataframe tbody tr th {\n",
       "        vertical-align: top;\n",
       "    }\n",
       "</style>\n",
       "<table border=\"1\" class=\"dataframe\">\n",
       "  <thead>\n",
       "    <tr style=\"text-align: right;\">\n",
       "      <th></th>\n",
       "      <th>index</th>\n",
       "      <th>business_id</th>\n",
       "      <th>name</th>\n",
       "      <th>categories</th>\n",
       "      <th>avg_stars</th>\n",
       "      <th>cool</th>\n",
       "      <th>date</th>\n",
       "      <th>funny</th>\n",
       "      <th>review_id</th>\n",
       "      <th>stars</th>\n",
       "      <th>text</th>\n",
       "      <th>useful</th>\n",
       "      <th>user_id</th>\n",
       "      <th>date_new</th>\n",
       "      <th>simple_rating</th>\n",
       "    </tr>\n",
       "  </thead>\n",
       "  <tbody>\n",
       "    <tr>\n",
       "      <th>0</th>\n",
       "      <td>228947</td>\n",
       "      <td>RESDUcs7fIiihp38-d6_6g</td>\n",
       "      <td>Bacchanal Buffet</td>\n",
       "      <td>['Sandwiches', 'Buffets', 'Restaurants', 'Brea...</td>\n",
       "      <td>4.0</td>\n",
       "      <td>0</td>\n",
       "      <td>2015-02-25</td>\n",
       "      <td>0</td>\n",
       "      <td>pWnR3FNqTq1AoaZVj6cayw</td>\n",
       "      <td>3</td>\n",
       "      <td>Date &amp; Time: Tuesday, 2/24/15 @ 2pm\\n\\nThe buf...</td>\n",
       "      <td>0</td>\n",
       "      <td>RFIZhrka0gCpiL62M5E93g</td>\n",
       "      <td>2015-02-25</td>\n",
       "      <td>False</td>\n",
       "    </tr>\n",
       "    <tr>\n",
       "      <th>1</th>\n",
       "      <td>228948</td>\n",
       "      <td>RESDUcs7fIiihp38-d6_6g</td>\n",
       "      <td>Bacchanal Buffet</td>\n",
       "      <td>['Sandwiches', 'Buffets', 'Restaurants', 'Brea...</td>\n",
       "      <td>4.0</td>\n",
       "      <td>0</td>\n",
       "      <td>2017-07-02</td>\n",
       "      <td>0</td>\n",
       "      <td>Xci8QJaDOB7OazJIP9U0Cw</td>\n",
       "      <td>5</td>\n",
       "      <td>I'm staying at Caesar's Palace for 4th of July...</td>\n",
       "      <td>0</td>\n",
       "      <td>J90_7u_8vPYa03GMohNxAA</td>\n",
       "      <td>2017-07-02</td>\n",
       "      <td>True</td>\n",
       "    </tr>\n",
       "    <tr>\n",
       "      <th>2</th>\n",
       "      <td>228949</td>\n",
       "      <td>RESDUcs7fIiihp38-d6_6g</td>\n",
       "      <td>Bacchanal Buffet</td>\n",
       "      <td>['Sandwiches', 'Buffets', 'Restaurants', 'Brea...</td>\n",
       "      <td>4.0</td>\n",
       "      <td>0</td>\n",
       "      <td>2015-12-29</td>\n",
       "      <td>0</td>\n",
       "      <td>IZO6o6l-T8VKH-4eTzJNzw</td>\n",
       "      <td>3</td>\n",
       "      <td>Great buffet and beautiful food presentation. ...</td>\n",
       "      <td>0</td>\n",
       "      <td>KGGA28eimhhOgHmSfyhEgw</td>\n",
       "      <td>2015-12-29</td>\n",
       "      <td>False</td>\n",
       "    </tr>\n",
       "    <tr>\n",
       "      <th>3</th>\n",
       "      <td>228950</td>\n",
       "      <td>RESDUcs7fIiihp38-d6_6g</td>\n",
       "      <td>Bacchanal Buffet</td>\n",
       "      <td>['Sandwiches', 'Buffets', 'Restaurants', 'Brea...</td>\n",
       "      <td>4.0</td>\n",
       "      <td>0</td>\n",
       "      <td>2016-03-19</td>\n",
       "      <td>0</td>\n",
       "      <td>KNYBYYO0Iq1QEsP4noql5g</td>\n",
       "      <td>4</td>\n",
       "      <td>By far the best buffet in Vegas!! A must stop,...</td>\n",
       "      <td>2</td>\n",
       "      <td>gJGXoQ6UzqK-cWVO8MnGHA</td>\n",
       "      <td>2016-03-19</td>\n",
       "      <td>False</td>\n",
       "    </tr>\n",
       "    <tr>\n",
       "      <th>4</th>\n",
       "      <td>228951</td>\n",
       "      <td>RESDUcs7fIiihp38-d6_6g</td>\n",
       "      <td>Bacchanal Buffet</td>\n",
       "      <td>['Sandwiches', 'Buffets', 'Restaurants', 'Brea...</td>\n",
       "      <td>4.0</td>\n",
       "      <td>0</td>\n",
       "      <td>2015-10-14</td>\n",
       "      <td>0</td>\n",
       "      <td>9SGHR-0E37W9rC56uJeFPA</td>\n",
       "      <td>5</td>\n",
       "      <td>Wholly schneikeis!   This was simply the best ...</td>\n",
       "      <td>0</td>\n",
       "      <td>ej7th1TBk_WA_y4GU0n_iw</td>\n",
       "      <td>2015-10-14</td>\n",
       "      <td>True</td>\n",
       "    </tr>\n",
       "  </tbody>\n",
       "</table>\n",
       "</div>"
      ],
      "text/plain": [
       "    index             business_id              name  \\\n",
       "0  228947  RESDUcs7fIiihp38-d6_6g  Bacchanal Buffet   \n",
       "1  228948  RESDUcs7fIiihp38-d6_6g  Bacchanal Buffet   \n",
       "2  228949  RESDUcs7fIiihp38-d6_6g  Bacchanal Buffet   \n",
       "3  228950  RESDUcs7fIiihp38-d6_6g  Bacchanal Buffet   \n",
       "4  228951  RESDUcs7fIiihp38-d6_6g  Bacchanal Buffet   \n",
       "\n",
       "                                          categories  avg_stars  cool  \\\n",
       "0  ['Sandwiches', 'Buffets', 'Restaurants', 'Brea...        4.0     0   \n",
       "1  ['Sandwiches', 'Buffets', 'Restaurants', 'Brea...        4.0     0   \n",
       "2  ['Sandwiches', 'Buffets', 'Restaurants', 'Brea...        4.0     0   \n",
       "3  ['Sandwiches', 'Buffets', 'Restaurants', 'Brea...        4.0     0   \n",
       "4  ['Sandwiches', 'Buffets', 'Restaurants', 'Brea...        4.0     0   \n",
       "\n",
       "         date  funny               review_id  stars  \\\n",
       "0  2015-02-25      0  pWnR3FNqTq1AoaZVj6cayw      3   \n",
       "1  2017-07-02      0  Xci8QJaDOB7OazJIP9U0Cw      5   \n",
       "2  2015-12-29      0  IZO6o6l-T8VKH-4eTzJNzw      3   \n",
       "3  2016-03-19      0  KNYBYYO0Iq1QEsP4noql5g      4   \n",
       "4  2015-10-14      0  9SGHR-0E37W9rC56uJeFPA      5   \n",
       "\n",
       "                                                text  useful  \\\n",
       "0  Date & Time: Tuesday, 2/24/15 @ 2pm\\n\\nThe buf...       0   \n",
       "1  I'm staying at Caesar's Palace for 4th of July...       0   \n",
       "2  Great buffet and beautiful food presentation. ...       0   \n",
       "3  By far the best buffet in Vegas!! A must stop,...       2   \n",
       "4  Wholly schneikeis!   This was simply the best ...       0   \n",
       "\n",
       "                  user_id    date_new  simple_rating  \n",
       "0  RFIZhrka0gCpiL62M5E93g  2015-02-25          False  \n",
       "1  J90_7u_8vPYa03GMohNxAA  2017-07-02           True  \n",
       "2  KGGA28eimhhOgHmSfyhEgw  2015-12-29          False  \n",
       "3  gJGXoQ6UzqK-cWVO8MnGHA  2016-03-19          False  \n",
       "4  ej7th1TBk_WA_y4GU0n_iw  2015-10-14           True  "
      ]
     },
     "execution_count": 188,
     "metadata": {},
     "output_type": "execute_result"
    }
   ],
   "source": [
    "df_top_restaurant.head()"
   ]
  },
  {
   "cell_type": "code",
   "execution_count": 116,
   "metadata": {},
   "outputs": [
    {
     "data": {
      "text/plain": [
       "(4059, 14)"
      ]
     },
     "execution_count": 116,
     "metadata": {},
     "output_type": "execute_result"
    }
   ],
   "source": [
    "df_top_restaurant.shape"
   ]
  },
  {
   "cell_type": "markdown",
   "metadata": {},
   "source": [
    "We can also load restaurant profile information from the business dataset (optional)"
   ]
  },
  {
   "cell_type": "code",
   "execution_count": null,
   "metadata": {
    "collapsed": true
   },
   "outputs": [],
   "source": [
    "# Load business dataset (optional)\n",
    "# Take a look at the most reviewed restaurant's profile (optional)\n",
    "pass"
   ]
  },
  {
   "cell_type": "markdown",
   "metadata": {},
   "source": [
    "### Vectorize the text feature"
   ]
  },
  {
   "cell_type": "code",
   "execution_count": 117,
   "metadata": {
    "collapsed": true
   },
   "outputs": [],
   "source": [
    "# Take the values of the column that contains review text data, save to a variable named \"documents_top_restaurant\"\n",
    "documents_top_restaurant = df_top_restaurant['text'].values"
   ]
  },
  {
   "cell_type": "markdown",
   "metadata": {},
   "source": [
    "### Define your target variable (for later classification use)"
   ]
  },
  {
   "cell_type": "markdown",
   "metadata": {},
   "source": [
    "#### Again, we look at perfect (5 stars) and imperfect (1-4 stars) rating"
   ]
  },
  {
   "cell_type": "code",
   "execution_count": 118,
   "metadata": {},
   "outputs": [
    {
     "name": "stderr",
     "output_type": "stream",
     "text": [
      "/anaconda3/lib/python3.6/site-packages/ipykernel_launcher.py:2: SettingWithCopyWarning: \n",
      "A value is trying to be set on a copy of a slice from a DataFrame.\n",
      "Try using .loc[row_indexer,col_indexer] = value instead\n",
      "\n",
      "See the caveats in the documentation: http://pandas.pydata.org/pandas-docs/stable/indexing.html#indexing-view-versus-copy\n",
      "  \n"
     ]
    }
   ],
   "source": [
    "# To be implemented\n",
    "df_top_restaurant['rating'] = df_top_restaurant['stars'] == 5"
   ]
  },
  {
   "cell_type": "code",
   "execution_count": 119,
   "metadata": {
    "collapsed": true
   },
   "outputs": [],
   "source": [
    "target_top_restaurant = df_top_restaurant['rating'].values"
   ]
  },
  {
   "cell_type": "markdown",
   "metadata": {},
   "source": [
    "#### Check the statistic of the target variable"
   ]
  },
  {
   "cell_type": "code",
   "execution_count": 120,
   "metadata": {},
   "outputs": [
    {
     "data": {
      "text/plain": [
       "dtype('bool')"
      ]
     },
     "execution_count": 120,
     "metadata": {},
     "output_type": "execute_result"
    }
   ],
   "source": [
    "# To be implemented\n",
    "target_top_restaurant.dtype"
   ]
  },
  {
   "cell_type": "code",
   "execution_count": 121,
   "metadata": {},
   "outputs": [
    {
     "data": {
      "text/plain": [
       "0.38556294653855627"
      ]
     },
     "execution_count": 121,
     "metadata": {},
     "output_type": "execute_result"
    }
   ],
   "source": [
    "target_top_restaurant.mean()"
   ]
  },
  {
   "cell_type": "markdown",
   "metadata": {},
   "source": [
    "### Create training dataset and test dataset"
   ]
  },
  {
   "cell_type": "code",
   "execution_count": 122,
   "metadata": {
    "collapsed": true
   },
   "outputs": [],
   "source": [
    "from sklearn.cross_validation import train_test_split"
   ]
  },
  {
   "cell_type": "code",
   "execution_count": 123,
   "metadata": {
    "collapsed": true
   },
   "outputs": [],
   "source": [
    "# documents_top_restaurant is your X, target_top_restaurant is your y\n",
    "# Now split the data to training set and test set\n",
    "# Now your data is smaller, you can use a typical \"test_size\", e.g. 0.3-0.7\n",
    "X_train, X_test, y_train, y_test = train_test_split(documents_top_restaurant, target_top_restaurant, test_size = 0.4)"
   ]
  },
  {
   "cell_type": "markdown",
   "metadata": {},
   "source": [
    "### Get NLP representation of the documents"
   ]
  },
  {
   "cell_type": "code",
   "execution_count": 124,
   "metadata": {
    "collapsed": true
   },
   "outputs": [],
   "source": [
    "from sklearn.feature_extraction.text import TfidfVectorizer"
   ]
  },
  {
   "cell_type": "code",
   "execution_count": 125,
   "metadata": {
    "collapsed": true
   },
   "outputs": [],
   "source": [
    "# Create TfidfVectorizer, and name it vectorizer\n",
    "vectorizer = TfidfVectorizer(stop_words = stopwords.words('english'), max_features = 2000)"
   ]
  },
  {
   "cell_type": "code",
   "execution_count": 126,
   "metadata": {
    "collapsed": true
   },
   "outputs": [],
   "source": [
    "# Train the model with your training data\n",
    "vectors_train = vectorizer.fit_transform(X_train).toarray()"
   ]
  },
  {
   "cell_type": "code",
   "execution_count": 127,
   "metadata": {
    "collapsed": true
   },
   "outputs": [],
   "source": [
    "# Get the vocab of your tfidf\n",
    "words = vectorizer.get_feature_names()"
   ]
  },
  {
   "cell_type": "code",
   "execution_count": 128,
   "metadata": {
    "collapsed": true
   },
   "outputs": [],
   "source": [
    "# Use the trained model to transform the test data\n",
    "vectors_test = vectorizer.transform(X_test)"
   ]
  },
  {
   "cell_type": "code",
   "execution_count": 132,
   "metadata": {
    "collapsed": true
   },
   "outputs": [],
   "source": [
    "# Use the trained model to transform all the data\n",
    "vectors_all = vectorizer.transform(documents_top_restaurant)"
   ]
  },
  {
   "cell_type": "markdown",
   "metadata": {},
   "source": [
    "### Cluster reviews with KMeans"
   ]
  },
  {
   "cell_type": "markdown",
   "metadata": {},
   "source": [
    "#### Fit k-means clustering on the training vectors and make predictions on all data"
   ]
  },
  {
   "cell_type": "code",
   "execution_count": 139,
   "metadata": {},
   "outputs": [
    {
     "data": {
      "text/plain": [
       "KMeans(algorithm='auto', copy_x=True, init='k-means++', max_iter=300,\n",
       "    n_clusters=5, n_init=10, n_jobs=1, precompute_distances='auto',\n",
       "    random_state=None, tol=0.0001, verbose=0)"
      ]
     },
     "execution_count": 139,
     "metadata": {},
     "output_type": "execute_result"
    }
   ],
   "source": [
    "# To be implemented\n",
    "from sklearn.cluster import KMeans\n",
    "\n",
    "kmeans_top = KMeans(n_clusters = 5)\n",
    "\n",
    "kmeans_top.fit(vectors_train)"
   ]
  },
  {
   "cell_type": "markdown",
   "metadata": {},
   "source": [
    "#### Make predictions on all your data"
   ]
  },
  {
   "cell_type": "code",
   "execution_count": 140,
   "metadata": {
    "collapsed": true
   },
   "outputs": [],
   "source": [
    "# To be implemented\n",
    "pred_all = kmeans_top.predict(vectors_all)"
   ]
  },
  {
   "cell_type": "code",
   "execution_count": 141,
   "metadata": {},
   "outputs": [
    {
     "data": {
      "text/plain": [
       "(4059,)"
      ]
     },
     "execution_count": 141,
     "metadata": {},
     "output_type": "execute_result"
    }
   ],
   "source": [
    "pred_all.shape"
   ]
  },
  {
   "cell_type": "code",
   "execution_count": 145,
   "metadata": {},
   "outputs": [
    {
     "data": {
      "text/plain": [
       "array([0, 1, 2, 3, 4], dtype=int32)"
      ]
     },
     "execution_count": 145,
     "metadata": {},
     "output_type": "execute_result"
    }
   ],
   "source": [
    "np.unique(pred_all)"
   ]
  },
  {
   "cell_type": "markdown",
   "metadata": {},
   "source": [
    "#### Inspect the centroids"
   ]
  },
  {
   "cell_type": "code",
   "execution_count": 146,
   "metadata": {
    "collapsed": true
   },
   "outputs": [],
   "source": [
    "# To be implemented\n",
    "centroids = kmeans_top.cluster_centers_"
   ]
  },
  {
   "cell_type": "code",
   "execution_count": 147,
   "metadata": {},
   "outputs": [
    {
     "data": {
      "text/plain": [
       "(5, 2000)"
      ]
     },
     "execution_count": 147,
     "metadata": {},
     "output_type": "execute_result"
    }
   ],
   "source": [
    "centroids.shape"
   ]
  },
  {
   "cell_type": "markdown",
   "metadata": {},
   "source": [
    "#### Find the top 10 features for each cluster."
   ]
  },
  {
   "cell_type": "code",
   "execution_count": 151,
   "metadata": {},
   "outputs": [
    {
     "name": "stdout",
     "output_type": "stream",
     "text": [
      "Top 10 features for each cluster: \n",
      "\n",
      "cluster # 1: food, good, buffet, place, price, worth, quality, better, really, much\n",
      "cluster # 2: crab, buffet, legs, good, food, seafood, like, section, dessert, get\n",
      "cluster # 3: best, buffet, vegas, food, buffets, las, one, worth, ever, quality\n",
      "cluster # 4: line, wait, time, get, food, long, buffet, us, hours, back\n",
      "cluster # 5: great, food, service, buffet, selection, good, worth, amazing, definitely, place\n"
     ]
    }
   ],
   "source": [
    "# To be implemented\n",
    "top10_features = centroids.argsort()[:, -1:-11:-1]\n",
    "print('Top 10 features for each cluster: \\n')\n",
    "for index, feature in enumerate(top10_features):\n",
    "    print('cluster # %d: %s' % (index+1, ', '.join(words[i] for i in feature)))"
   ]
  },
  {
   "cell_type": "code",
   "execution_count": 150,
   "metadata": {},
   "outputs": [
    {
     "data": {
      "text/plain": [
       "array([[ 706,  775,  269, 1316, 1375, 1980, 1401,  207, 1431, 1143],\n",
       "       [ 432,  269,  983,  775,  706, 1531,  991, 1542,  499,  751],\n",
       "       [ 206,  269, 1892,  706,  270,  969, 1209, 1980,  607, 1401],\n",
       "       [ 997, 1908, 1808,  751,  706, 1015,  269, 1877,  871,  167],\n",
       "       [ 792,  706, 1562,  269, 1551,  775, 1980,  109,  487, 1316]])"
      ]
     },
     "execution_count": 150,
     "metadata": {},
     "output_type": "execute_result"
    }
   ],
   "source": [
    "top10_features"
   ]
  },
  {
   "cell_type": "markdown",
   "metadata": {},
   "source": [
    "#### Print out the rating and review of a random sample of the reviews assigned to each cluster to get a sense of the cluster."
   ]
  },
  {
   "cell_type": "code",
   "execution_count": 193,
   "metadata": {},
   "outputs": [
    {
     "name": "stdout",
     "output_type": "stream",
     "text": [
      "===cluster 1 ===\n",
      "  1 star: The service is poor, the hotel is dated, the staff is going through the motions, the restaurants serve cafeteria food. AVOID this hotel at all costs. Stay downtown before this resurrected dump. \n",
      "\n",
      "===cluster 2 ===\n",
      "  5 star: OMG BEST BUFFET I HAVE EVER HAD IN MY LIFE IM IN LOVE. I wish I could eat here every day. There's so much food so many different options there's something for everyone! I love how unique all there sections of food are there's fresh tacos in Mexican food delicious pasta and pizza in the Italian section some pho for Vietnamese portion dimsum for Chinese sides sushi for Japanese seafood with crab legs and claws a bunch of hot meat and cold cuts they honestly had everything I got to try a bit of each and it's actually delicious that they could master so many flavors of food correctly, that's just the savory food portion. Don't get me started on desserts they were delicious and beautiful I'm at home craving the banana pudding bread. They also had everything at the dessert section too gelato, macaroons , fresh crepes, cakes, cookies, gummy bears the list goes on and on! Cannot forget to mention they had fresh juices in the cutest jars horchata, Jamaica , guava, mango and more they were all so cute and good! \n",
      "\n",
      "===cluster 3 ===\n",
      "  5 star: Bacchanal is in the top 5 buffets in Vegas.  With over 500 items to choose from, I was in food heaven.  At this Buffet, you not only get the volume and variety but also the high standard and excellent cuisine.  The rule of trying a bit of everything has to go out the window because there is way too much food (for me).  That is not a complaint, by the way.  Walk through the whole Buffet before choosing.  It was a long walk!  The food is endless.  There are 9 different cuisines or show kitchens.\n",
      "I started at the Chinese Cuisine, not because it's my favourite, it's because it was at the end of the buffet and I had originally thought I could start here so as not to miss anything.  As I was getting full, I had to bypass some sections.  The authenticity and quality was very evident in the appearance and taste.  I was going to take a little from each of the 9 show kitchens., but I soon decided to just go with my instincts.  Then for my second plate I went for the pizzas.  The one I loved the best was the one with the truffle.  My 3rd plate was the best which has a lot to say for the high quality since I was getting full.  I went for the melt in your mouth prime rib with horse radish, crab leg, the butteriest (is that a word?) richest mashed potatoes in the universe, prawns, oyster on the half shell and a little shot glass of melted butter.  It was to die for!  I decided to take pictures of the desserts because there was no way I could sample even half of what they had.  At least my husband shared bites of his selections.  THE BEST buffet creme brûlée is at the Bacchanal!  I ate every drop of the creamy goodness with the contrast of the crunch of the sugar topping.  I also loved the cheesecake pop, and mini carrot cake.   Worth every dollar we spent and probably the BEST Buffet that have had in Vegas or elsewhere for that matter.  It followed Cosmopolitan's lead to increase the quality and excellence, rather than mass production  cooking so it's not hard to believe that it has surpassed the Cosmopolitan, in my opinion.  The table service was wonderful as well. \n",
      "\n",
      "===cluster 4 ===\n",
      "  4 star: This is the second time I have come here. I'm still impressed at the size of this buffet. The food is always good and the servers are friendly. Only had to wait about 10 mins this time in the line, so not bad. \n",
      "\n",
      "===cluster 5 ===\n",
      "  5 star: Would give six stars if possible!  Quality selection...excellent flavors...comfortable atmosphere...wonderful service.  I support the report that it is the best buffet on the strip! \n",
      "\n"
     ]
    }
   ],
   "source": [
    "# To be implemented\n",
    "for i in range(kmeans_top.n_clusters):\n",
    "    cluster = np.arange(documents_top_restaurant.shape[0])[pred_all == i]\n",
    "    sample = np.random.choice(cluster)\n",
    "    print('===cluster %d ===' % (i+1))\n",
    "    print('  %d star: %s \\n' % (df_top_restaurant.ix[sample, 'stars'], df_top_restaurant.ix[sample, 'text']))\n",
    "  \n"
   ]
  },
  {
   "cell_type": "markdown",
   "metadata": {},
   "source": [
    "## 3. Use PCA to reduce dimensionality"
   ]
  },
  {
   "cell_type": "markdown",
   "metadata": {},
   "source": [
    "### Stardardize features\n",
    "Your X_train and X_test"
   ]
  },
  {
   "cell_type": "code",
   "execution_count": 199,
   "metadata": {
    "collapsed": true
   },
   "outputs": [],
   "source": [
    "from sklearn.preprocessing import StandardScaler\n",
    "\n",
    "scaler = StandardScaler(with_mean=False) #StandardScaler can scale sparse data as long as 'with_mean = False' is passed as input.\n",
    "\n",
    "X_train_scaled = scaler.fit_transform(vectors_train)\n",
    "\n",
    "X_test_scaled = scaler.transform(vectors_test)"
   ]
  },
  {
   "cell_type": "markdown",
   "metadata": {},
   "source": [
    "### Use PCA to transform data (train and test) and get princial components"
   ]
  },
  {
   "cell_type": "code",
   "execution_count": 203,
   "metadata": {},
   "outputs": [
    {
     "data": {
      "text/plain": [
       "(2435, 2000)"
      ]
     },
     "execution_count": 203,
     "metadata": {},
     "output_type": "execute_result"
    }
   ],
   "source": [
    "X_train_scaled.shape"
   ]
  },
  {
   "cell_type": "code",
   "execution_count": 205,
   "metadata": {
    "collapsed": true
   },
   "outputs": [],
   "source": [
    "from sklearn.decomposition import PCA\n",
    "\n",
    "# Let's pick a n_components\n",
    "n_components = 50\n",
    "pca = PCA(n_components = 50)\n",
    "\n",
    "# To be implemented\n",
    "train_components = pca.fit_transform(X_train_scaled)\n",
    "test_components = pca.transform(X_test_scaled.todense()) #X_test_scaled is sparse data, so pass 'todense'.\n"
   ]
  },
  {
   "cell_type": "code",
   "execution_count": 206,
   "metadata": {},
   "outputs": [
    {
     "data": {
      "text/plain": [
       "(2435, 50)"
      ]
     },
     "execution_count": 206,
     "metadata": {},
     "output_type": "execute_result"
    }
   ],
   "source": [
    "train_components.shape"
   ]
  },
  {
   "cell_type": "code",
   "execution_count": 207,
   "metadata": {},
   "outputs": [
    {
     "data": {
      "text/plain": [
       "(1624, 50)"
      ]
     },
     "execution_count": 207,
     "metadata": {},
     "output_type": "execute_result"
    }
   ],
   "source": [
    "test_components.shape"
   ]
  },
  {
   "cell_type": "markdown",
   "metadata": {},
   "source": [
    "### See how much (and how much percentage of) variance the principal components explain"
   ]
  },
  {
   "cell_type": "code",
   "execution_count": 210,
   "metadata": {},
   "outputs": [
    {
     "name": "stdout",
     "output_type": "stream",
     "text": [
      "(50,)\n",
      "[ 11.12253951   8.76515445   5.67501777   5.42551963   5.03280175\n",
      "   4.64602139   4.45050546   4.3480565    4.20002644   4.13658663\n",
      "   4.10757152   4.05127798   4.00662371   3.88758372   3.84214704\n",
      "   3.79835585   3.7533647    3.72908494   3.71444362   3.66490212\n",
      "   3.64826588   3.59918561   3.59495239   3.54618236   3.5082002\n",
      "   3.50398705   3.48173771   3.47204418   3.44814548   3.42712732\n",
      "   3.41308212   3.39252499   3.376712     3.35117676   3.34767084\n",
      "   3.33490815   3.29484491   3.29098678   3.26935035   3.25082128\n",
      "   3.23690578   3.21228388   3.20080343   3.18958305   3.1636104\n",
      "   3.15596981   3.1455713    3.12709461   3.09933431   3.09177262]\n"
     ]
    }
   ],
   "source": [
    "# How much variance the principal components explain\n",
    "print(pca.explained_variance_.shape)\n",
    "print(pca.explained_variance_)"
   ]
  },
  {
   "cell_type": "code",
   "execution_count": 215,
   "metadata": {},
   "outputs": [
    {
     "name": "stdout",
     "output_type": "stream",
     "text": [
      "[ 0.00555899  0.00438078  0.00283634  0.00271165  0.00251537  0.00232206\n",
      "  0.00222434  0.00217314  0.00209915  0.00206744  0.00205294  0.00202481\n",
      "  0.00200249  0.00194299  0.00192028  0.0018984   0.00187591  0.00186378\n",
      "  0.00185646  0.0018317   0.00182338  0.00179885  0.00179674  0.00177236\n",
      "  0.00175338  0.00175127  0.00174015  0.00173531  0.00172336  0.00171286\n",
      "  0.00170584  0.00169557  0.00168766  0.0016749   0.00167315  0.00166677\n",
      "  0.00164675  0.00164482  0.001634    0.00162474  0.00161779  0.00160548\n",
      "  0.00159974  0.00159414  0.00158116  0.00157734  0.00157214  0.00156291\n",
      "  0.00154903  0.00154525]\n"
     ]
    }
   ],
   "source": [
    "# How much percentage of variance the principal components explain.\n",
    "print(pca.explained_variance_ratio_)"
   ]
  },
  {
   "cell_type": "markdown",
   "metadata": {},
   "source": [
    "### Viz: plot proportion of variance explained with top principal components\n",
    "\n",
    "For clear display, you may start with plotting <=20 principal components"
   ]
  },
  {
   "cell_type": "code",
   "execution_count": 222,
   "metadata": {},
   "outputs": [
    {
     "data": {
      "text/plain": [
       "Text(0.5,1,'Proportion of variance explained by top 20 components')"
      ]
     },
     "execution_count": 222,
     "metadata": {},
     "output_type": "execute_result"
    },
    {
     "data": {
      "image/png": "[encoded data removed]",
      "text/plain": [
       "<matplotlib.figure.Figure at 0x11547b898>"
      ]
     },
     "metadata": {},
     "output_type": "display_data"
    }
   ],
   "source": [
    "# To be implemented\n",
    "import matplotlib.pyplot as plt\n",
    "%matplotlib inline\n",
    "\n",
    "plotting_number = 20\n",
    "pca_range = np.arange(plotting_number) + 1\n",
    "pca_names = ['pca_%s' % (i) for i in pca_range]\n",
    "\n",
    "plt.bar(pca_range, pca.explained_variance_ratio_[:plotting_number])\n",
    "xticks = plt.xticks(pca_range, pca_names, rotation = 90)\n",
    "plt.ylabel('Proportion of variance explained')\n",
    "plt.title('Proportion of variance explained by top 20 components')"
   ]
  },
  {
   "cell_type": "markdown",
   "metadata": {},
   "source": [
    "## Classifying positive/negative review with PCA preprocessing"
   ]
  },
  {
   "cell_type": "markdown",
   "metadata": {},
   "source": [
    "### Logistic Regression Classifier\n",
    "#### Use standardized tf-idf vectors as features"
   ]
  },
  {
   "cell_type": "code",
   "execution_count": 228,
   "metadata": {},
   "outputs": [
    {
     "data": {
      "text/plain": [
       "LogisticRegression(C=1.0, class_weight=None, dual=False, fit_intercept=True,\n",
       "          intercept_scaling=1, max_iter=100, multi_class='ovr', n_jobs=1,\n",
       "          penalty='l2', random_state=None, solver='liblinear', tol=0.0001,\n",
       "          verbose=0, warm_start=False)"
      ]
     },
     "execution_count": 228,
     "metadata": {},
     "output_type": "execute_result"
    }
   ],
   "source": [
    "# Build a Logistic Regression Classifier, train with standardized tf-idf vectors\n",
    "\n",
    "from sklearn.linear_model import LogisticRegression\n",
    "\n",
    "model_lr = LogisticRegression()\n",
    "\n",
    "model_lr.fit(X_train_scaled, y_train)"
   ]
  },
  {
   "cell_type": "code",
   "execution_count": 229,
   "metadata": {},
   "outputs": [
    {
     "data": {
      "text/plain": [
       "0.99917864476386042"
      ]
     },
     "execution_count": 229,
     "metadata": {},
     "output_type": "execute_result"
    }
   ],
   "source": [
    "# Get score for training set\n",
    "model_lr.score(X_train_scaled, y_train)"
   ]
  },
  {
   "cell_type": "code",
   "execution_count": 230,
   "metadata": {
    "scrolled": true
   },
   "outputs": [
    {
     "data": {
      "text/plain": [
       "0.7038177339901478"
      ]
     },
     "execution_count": 230,
     "metadata": {},
     "output_type": "execute_result"
    }
   ],
   "source": [
    "# Get score for test set\n",
    "model_lr.score(X_test_scaled, y_test)"
   ]
  },
  {
   "cell_type": "markdown",
   "metadata": {},
   "source": [
    "#### Use (Stardardized + PCA) tf-idf vectors as features"
   ]
  },
  {
   "cell_type": "code",
   "execution_count": 280,
   "metadata": {},
   "outputs": [
    {
     "data": {
      "text/plain": [
       "LogisticRegression(C=1.0, class_weight=None, dual=False, fit_intercept=True,\n",
       "          intercept_scaling=1, max_iter=100, multi_class='ovr', n_jobs=1,\n",
       "          penalty='l2', random_state=None, solver='liblinear', tol=0.0001,\n",
       "          verbose=0, warm_start=False)"
      ]
     },
     "execution_count": 280,
     "metadata": {},
     "output_type": "execute_result"
    }
   ],
   "source": [
    "# Build a Logistic Regression Classifier, train with PCA tranformed X\n",
    "\n",
    "from sklearn.linear_model import LogisticRegression\n",
    "\n",
    "model_lr_pca = LogisticRegression()\n",
    "\n",
    "model_lr_pca.fit(train_components, y_train)"
   ]
  },
  {
   "cell_type": "code",
   "execution_count": 232,
   "metadata": {},
   "outputs": [
    {
     "data": {
      "text/plain": [
       "0.79096509240246404"
      ]
     },
     "execution_count": 232,
     "metadata": {},
     "output_type": "execute_result"
    }
   ],
   "source": [
    "# Get score for training set\n",
    "model_lr_pca.score(train_components, y_train)"
   ]
  },
  {
   "cell_type": "code",
   "execution_count": 236,
   "metadata": {},
   "outputs": [
    {
     "data": {
      "text/plain": [
       "0.77709359605911332"
      ]
     },
     "execution_count": 236,
     "metadata": {},
     "output_type": "execute_result"
    }
   ],
   "source": [
    "# Get score for test set, REMEMBER to use PCA-transformed X!\n",
    "model_lr_pca.score(test_components, y_test)"
   ]
  },
  {
   "cell_type": "markdown",
   "metadata": {},
   "source": [
    "#### Q: What do you see from the training score and the test score? How do you compare the results from PCA and non-PCA preprocessing?"
   ]
  },
  {
   "cell_type": "markdown",
   "metadata": {},
   "source": [
    "Training score drops from 0.999 to 0.791 due to the fact that PCA with n_components 50 uses less features than previous non-PCA model. But in fact it is good thing because test score increases from 0.704 to 0.777, implying PCA preprocessing helps to tackle overfitting issue. "
   ]
  },
  {
   "cell_type": "markdown",
   "metadata": {},
   "source": [
    "#### You can plot the coefficients against principal components\n"
   ]
  },
  {
   "cell_type": "code",
   "execution_count": 286,
   "metadata": {
    "collapsed": true
   },
   "outputs": [],
   "source": [
    "# Create dataframe saving Principle Components and their coefficients.\n",
    "PC_names = ['PC_%s' % i for i in np.arange(pca.n_components_) + 1 ]\n",
    "\n",
    "lr_coeff = model_lr_pca.coef_.flatten().tolist()\n",
    "\n",
    "df = pd.DataFrame({'PC_names':PC_names, 'lr_coeff':lr_coeff}).sort_values(by = ['lr_coeff'], ascending = False)"
   ]
  },
  {
   "cell_type": "code",
   "execution_count": 299,
   "metadata": {},
   "outputs": [
    {
     "data": {
      "text/html": [
       "<div>\n",
       "<style>\n",
       "    .dataframe thead tr:only-child th {\n",
       "        text-align: right;\n",
       "    }\n",
       "\n",
       "    .dataframe thead th {\n",
       "        text-align: left;\n",
       "    }\n",
       "\n",
       "    .dataframe tbody tr th {\n",
       "        vertical-align: top;\n",
       "    }\n",
       "</style>\n",
       "<table border=\"1\" class=\"dataframe\">\n",
       "  <thead>\n",
       "    <tr style=\"text-align: right;\">\n",
       "      <th></th>\n",
       "      <th>PC_names</th>\n",
       "      <th>lr_coeff</th>\n",
       "    </tr>\n",
       "  </thead>\n",
       "  <tbody>\n",
       "    <tr>\n",
       "      <th>2</th>\n",
       "      <td>PC_3</td>\n",
       "      <td>0.568846</td>\n",
       "    </tr>\n",
       "    <tr>\n",
       "      <th>9</th>\n",
       "      <td>PC_10</td>\n",
       "      <td>0.232996</td>\n",
       "    </tr>\n",
       "    <tr>\n",
       "      <th>3</th>\n",
       "      <td>PC_4</td>\n",
       "      <td>0.160280</td>\n",
       "    </tr>\n",
       "    <tr>\n",
       "      <th>5</th>\n",
       "      <td>PC_6</td>\n",
       "      <td>0.097773</td>\n",
       "    </tr>\n",
       "    <tr>\n",
       "      <th>27</th>\n",
       "      <td>PC_28</td>\n",
       "      <td>0.078635</td>\n",
       "    </tr>\n",
       "    <tr>\n",
       "      <th>12</th>\n",
       "      <td>PC_13</td>\n",
       "      <td>-0.131220</td>\n",
       "    </tr>\n",
       "    <tr>\n",
       "      <th>48</th>\n",
       "      <td>PC_49</td>\n",
       "      <td>-0.135391</td>\n",
       "    </tr>\n",
       "    <tr>\n",
       "      <th>6</th>\n",
       "      <td>PC_7</td>\n",
       "      <td>-0.156895</td>\n",
       "    </tr>\n",
       "    <tr>\n",
       "      <th>8</th>\n",
       "      <td>PC_9</td>\n",
       "      <td>-0.158395</td>\n",
       "    </tr>\n",
       "    <tr>\n",
       "      <th>1</th>\n",
       "      <td>PC_2</td>\n",
       "      <td>-0.310310</td>\n",
       "    </tr>\n",
       "  </tbody>\n",
       "</table>\n",
       "</div>"
      ],
      "text/plain": [
       "   PC_names  lr_coeff\n",
       "2      PC_3  0.568846\n",
       "9     PC_10  0.232996\n",
       "3      PC_4  0.160280\n",
       "5      PC_6  0.097773\n",
       "27    PC_28  0.078635\n",
       "12    PC_13 -0.131220\n",
       "48    PC_49 -0.135391\n",
       "6      PC_7 -0.156895\n",
       "8      PC_9 -0.158395\n",
       "1      PC_2 -0.310310"
      ]
     },
     "execution_count": 299,
     "metadata": {},
     "output_type": "execute_result"
    }
   ],
   "source": [
    "#Print the first and last 10 rows\n",
    "pd.concat([df.head(5), df.tail(5)])"
   ]
  },
  {
   "cell_type": "code",
   "execution_count": 289,
   "metadata": {},
   "outputs": [
    {
     "data": {
      "image/png": "[encoded data removed]",
      "text/plain": [
       "<matplotlib.figure.Figure at 0x120619550>"
      ]
     },
     "metadata": {},
     "output_type": "display_data"
    }
   ],
   "source": [
    "#Plot and visualize coefficients.\n",
    "plt.figure(figsize = (10, 10))\n",
    "plt.barh(np.arange(pca.n_components_)+1, df['lr_coeff'], align = 'center')\n",
    "plt.yticks(np.arange(pca.n_components_)+1, df['PC_names'])\n",
    "plt.xlabel('Coefficients of PC_i in Logistic Regression')\n",
    "plt.show()"
   ]
  },
  {
   "cell_type": "markdown",
   "metadata": {},
   "source": [
    "### Random Forest Classifier\n",
    "#### Use standardized tf-idf vectors as features"
   ]
  },
  {
   "cell_type": "code",
   "execution_count": 318,
   "metadata": {},
   "outputs": [
    {
     "data": {
      "text/plain": [
       "RandomForestClassifier(bootstrap=True, class_weight=None, criterion='gini',\n",
       "            max_depth=20, max_features='auto', max_leaf_nodes=None,\n",
       "            min_impurity_decrease=0.0, min_impurity_split=None,\n",
       "            min_samples_leaf=2, min_samples_split=2,\n",
       "            min_weight_fraction_leaf=0.0, n_estimators=50, n_jobs=1,\n",
       "            oob_score=False, random_state=12, verbose=0, warm_start=False)"
      ]
     },
     "execution_count": 318,
     "metadata": {},
     "output_type": "execute_result"
    }
   ],
   "source": [
    "# Build a Random Forest Classifier\n",
    "\n",
    "from sklearn.ensemble import RandomForestClassifier\n",
    "\n",
    "model_rf = RandomForestClassifier(n_estimators = 50, max_depth = 20, min_samples_leaf = 2, random_state = 12)\n",
    "\n",
    "model_rf.fit(X_train_scaled, y_train)"
   ]
  },
  {
   "cell_type": "code",
   "execution_count": 319,
   "metadata": {},
   "outputs": [
    {
     "data": {
      "text/plain": [
       "0.91868583162217654"
      ]
     },
     "execution_count": 319,
     "metadata": {},
     "output_type": "execute_result"
    }
   ],
   "source": [
    "# Get score for training set\n",
    "model_rf.score(X_train_scaled, y_train)"
   ]
  },
  {
   "cell_type": "code",
   "execution_count": 320,
   "metadata": {
    "scrolled": true
   },
   "outputs": [
    {
     "data": {
      "text/plain": [
       "0.74507389162561577"
      ]
     },
     "execution_count": 320,
     "metadata": {},
     "output_type": "execute_result"
    }
   ],
   "source": [
    "# Get score for test set\n",
    "model_rf.score(X_test_scaled, y_test)"
   ]
  },
  {
   "cell_type": "markdown",
   "metadata": {},
   "source": [
    "#### Use (Stardardized + PCA) tf-idf vectors as features"
   ]
  },
  {
   "cell_type": "code",
   "execution_count": 321,
   "metadata": {},
   "outputs": [
    {
     "data": {
      "text/plain": [
       "RandomForestClassifier(bootstrap=True, class_weight=None, criterion='gini',\n",
       "            max_depth=20, max_features='auto', max_leaf_nodes=None,\n",
       "            min_impurity_decrease=0.0, min_impurity_split=None,\n",
       "            min_samples_leaf=2, min_samples_split=2,\n",
       "            min_weight_fraction_leaf=0.0, n_estimators=50, n_jobs=1,\n",
       "            oob_score=False, random_state=12, verbose=0, warm_start=False)"
      ]
     },
     "execution_count": 321,
     "metadata": {},
     "output_type": "execute_result"
    }
   ],
   "source": [
    "# Build a Random Forest Classifier\n",
    "\n",
    "from sklearn.ensemble import RandomForestClassifier\n",
    "\n",
    "model_rf2 = RandomForestClassifier(n_estimators = 50, max_depth = 20, min_samples_leaf = 2, random_state = 12)\n",
    "\n",
    "model_rf2.fit(train_components, y_train)"
   ]
  },
  {
   "cell_type": "code",
   "execution_count": 322,
   "metadata": {},
   "outputs": [
    {
     "data": {
      "text/plain": [
       "0.99712525667351126"
      ]
     },
     "execution_count": 322,
     "metadata": {},
     "output_type": "execute_result"
    }
   ],
   "source": [
    "# Get score for training set\n",
    "model_rf2.score(train_components, y_train)"
   ]
  },
  {
   "cell_type": "code",
   "execution_count": 323,
   "metadata": {},
   "outputs": [
    {
     "data": {
      "text/plain": [
       "0.75677339901477836"
      ]
     },
     "execution_count": 323,
     "metadata": {},
     "output_type": "execute_result"
    }
   ],
   "source": [
    "# Get score for test set, REMEMBER to use PCA-transformed X!\n",
    "model_rf2.score(test_components, y_test)"
   ]
  },
  {
   "cell_type": "markdown",
   "metadata": {},
   "source": [
    "#### Q: What do you see from the training result and the test result?"
   ]
  },
  {
   "cell_type": "markdown",
   "metadata": {},
   "source": [
    "After using PCA preprocessing, scores increase both on training(0.919 to 0.997) and test(0.745 to 0.757) sets. Performance lift in training set is higher than in test set, suggesting a more serious overfitting. Different from previous case of logistic regression, PCA preprocessing does not help to mitigate overfitting of Random Forest algorithm.  "
   ]
  },
  {
   "cell_type": "markdown",
   "metadata": {},
   "source": [
    "#### You can plot the feature importances against principal components\n"
   ]
  },
  {
   "cell_type": "code",
   "execution_count": 335,
   "metadata": {
    "collapsed": true
   },
   "outputs": [],
   "source": [
    "# To be implemented\n",
    "PC_names = ['PC_%s' % i for i in np.arange(pca.n_components_) + 1 ]\n",
    "\n",
    "feat_imp = model_rf2.feature_importances_.tolist()\n",
    "\n",
    "df_feature = pd.DataFrame({'PC_names':PC_names, 'feature_importance':feat_imp}).sort_values(by = ['feature_importance'], ascending = False)"
   ]
  },
  {
   "cell_type": "code",
   "execution_count": 336,
   "metadata": {},
   "outputs": [
    {
     "data": {
      "text/html": [
       "<div>\n",
       "<style>\n",
       "    .dataframe thead tr:only-child th {\n",
       "        text-align: right;\n",
       "    }\n",
       "\n",
       "    .dataframe thead th {\n",
       "        text-align: left;\n",
       "    }\n",
       "\n",
       "    .dataframe tbody tr th {\n",
       "        vertical-align: top;\n",
       "    }\n",
       "</style>\n",
       "<table border=\"1\" class=\"dataframe\">\n",
       "  <thead>\n",
       "    <tr style=\"text-align: right;\">\n",
       "      <th></th>\n",
       "      <th>PC_names</th>\n",
       "      <th>feature_importance</th>\n",
       "    </tr>\n",
       "  </thead>\n",
       "  <tbody>\n",
       "    <tr>\n",
       "      <th>2</th>\n",
       "      <td>PC_3</td>\n",
       "      <td>0.139482</td>\n",
       "    </tr>\n",
       "    <tr>\n",
       "      <th>1</th>\n",
       "      <td>PC_2</td>\n",
       "      <td>0.073258</td>\n",
       "    </tr>\n",
       "    <tr>\n",
       "      <th>9</th>\n",
       "      <td>PC_10</td>\n",
       "      <td>0.038973</td>\n",
       "    </tr>\n",
       "    <tr>\n",
       "      <th>3</th>\n",
       "      <td>PC_4</td>\n",
       "      <td>0.037768</td>\n",
       "    </tr>\n",
       "    <tr>\n",
       "      <th>0</th>\n",
       "      <td>PC_1</td>\n",
       "      <td>0.029795</td>\n",
       "    </tr>\n",
       "    <tr>\n",
       "      <th>33</th>\n",
       "      <td>PC_34</td>\n",
       "      <td>0.012561</td>\n",
       "    </tr>\n",
       "    <tr>\n",
       "      <th>17</th>\n",
       "      <td>PC_18</td>\n",
       "      <td>0.012268</td>\n",
       "    </tr>\n",
       "    <tr>\n",
       "      <th>42</th>\n",
       "      <td>PC_43</td>\n",
       "      <td>0.011799</td>\n",
       "    </tr>\n",
       "    <tr>\n",
       "      <th>45</th>\n",
       "      <td>PC_46</td>\n",
       "      <td>0.011574</td>\n",
       "    </tr>\n",
       "    <tr>\n",
       "      <th>26</th>\n",
       "      <td>PC_27</td>\n",
       "      <td>0.011223</td>\n",
       "    </tr>\n",
       "  </tbody>\n",
       "</table>\n",
       "</div>"
      ],
      "text/plain": [
       "   PC_names  feature_importance\n",
       "2      PC_3            0.139482\n",
       "1      PC_2            0.073258\n",
       "9     PC_10            0.038973\n",
       "3      PC_4            0.037768\n",
       "0      PC_1            0.029795\n",
       "33    PC_34            0.012561\n",
       "17    PC_18            0.012268\n",
       "42    PC_43            0.011799\n",
       "45    PC_46            0.011574\n",
       "26    PC_27            0.011223"
      ]
     },
     "execution_count": 336,
     "metadata": {},
     "output_type": "execute_result"
    }
   ],
   "source": [
    "pd.concat([df_feature.head(5), df_feature.tail(5)])"
   ]
  },
  {
   "cell_type": "code",
   "execution_count": 340,
   "metadata": {},
   "outputs": [
    {
     "data": {
      "image/png": "[encoded data removed]",
      "text/plain": [
       "<matplotlib.figure.Figure at 0x1214118d0>"
      ]
     },
     "metadata": {},
     "output_type": "display_data"
    }
   ],
   "source": [
    "#Plot and visualize principle components and their feature importances. \n",
    "plt.figure(figsize = (10, 10))\n",
    "plt.barh(np.arange(pca.n_components_)+1, df_feature['feature_importance'][::-1], align = 'center')\n",
    "plt.yticks(np.arange(pca.n_components_)+1, df['PC_names'])\n",
    "plt.xlabel('Feature importances against principle components of RandomForestClassifier')\n",
    "plt.show()"
   ]
  }
 ],
 "metadata": {
  "anaconda-cloud": {},
  "kernelspec": {
   "display_name": "Python 3",
   "language": "python",
   "name": "python3"
  },
  "language_info": {
   "codemirror_mode": {
    "name": "ipython",
    "version": 3
   },
   "file_extension": ".py",
   "mimetype": "text/x-python",
   "name": "python",
   "nbconvert_exporter": "python",
   "pygments_lexer": "ipython3",
   "version": "3.6.3"
  }
 },
 "nbformat": 4,
 "nbformat_minor": 1
}
