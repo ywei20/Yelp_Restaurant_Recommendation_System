{
 "cells": [
  {
   "cell_type": "markdown",
   "metadata": {},
   "source": [
    "# Yelp Data Challenge - Restaurant Recommender\n",
    "\n",
    "BitTiger DS501-1802\n",
    "\n",
    "May 2018 \n",
    "\n",
    "Yan Wei"
   ]
  },
  {
   "cell_type": "code",
   "execution_count": 1,
   "metadata": {
    "collapsed": true
   },
   "outputs": [],
   "source": [
    "import pandas as pd\n",
    "import numpy as np\n",
    "import matplotlib.pyplot as plt\n",
    "% matplotlib inline\n",
    "plt.style.use(\"ggplot\")"
   ]
  },
  {
   "cell_type": "code",
   "execution_count": 2,
   "metadata": {
    "collapsed": true
   },
   "outputs": [],
   "source": [
    "df = pd.read_csv('data/last_2_years_restaurant_reviews.csv')"
   ]
  },
  {
   "cell_type": "code",
   "execution_count": 3,
   "metadata": {},
   "outputs": [
    {
     "data": {
      "text/html": [
       "<div>\n",
       "<style>\n",
       "    .dataframe thead tr:only-child th {\n",
       "        text-align: right;\n",
       "    }\n",
       "\n",
       "    .dataframe thead th {\n",
       "        text-align: left;\n",
       "    }\n",
       "\n",
       "    .dataframe tbody tr th {\n",
       "        vertical-align: top;\n",
       "    }\n",
       "</style>\n",
       "<table border=\"1\" class=\"dataframe\">\n",
       "  <thead>\n",
       "    <tr style=\"text-align: right;\">\n",
       "      <th></th>\n",
       "      <th>business_id</th>\n",
       "      <th>name</th>\n",
       "      <th>categories</th>\n",
       "      <th>avg_stars</th>\n",
       "      <th>cool</th>\n",
       "      <th>date</th>\n",
       "      <th>funny</th>\n",
       "      <th>review_id</th>\n",
       "      <th>stars</th>\n",
       "      <th>text</th>\n",
       "      <th>useful</th>\n",
       "      <th>user_id</th>\n",
       "      <th>date_new</th>\n",
       "    </tr>\n",
       "  </thead>\n",
       "  <tbody>\n",
       "    <tr>\n",
       "      <th>0</th>\n",
       "      <td>--9e1ONYQuAa-CB_Rrw7Tw</td>\n",
       "      <td>Delmonico Steakhouse</td>\n",
       "      <td>['Cajun/Creole', 'Steakhouses', 'Restaurants']</td>\n",
       "      <td>4.0</td>\n",
       "      <td>0</td>\n",
       "      <td>2016-03-31</td>\n",
       "      <td>0</td>\n",
       "      <td>6SgvNWJltnZhW7duJgZ42w</td>\n",
       "      <td>5</td>\n",
       "      <td>This is mine and my fiancé's favorite steakhou...</td>\n",
       "      <td>0</td>\n",
       "      <td>oFyOUOeGTRZhFPF9uTqrTQ</td>\n",
       "      <td>2016-03-31</td>\n",
       "    </tr>\n",
       "    <tr>\n",
       "      <th>1</th>\n",
       "      <td>--9e1ONYQuAa-CB_Rrw7Tw</td>\n",
       "      <td>Delmonico Steakhouse</td>\n",
       "      <td>['Cajun/Creole', 'Steakhouses', 'Restaurants']</td>\n",
       "      <td>4.0</td>\n",
       "      <td>0</td>\n",
       "      <td>2015-06-29</td>\n",
       "      <td>0</td>\n",
       "      <td>iwx6s6yQxc7yjS7NFANZig</td>\n",
       "      <td>4</td>\n",
       "      <td>Nice atmosphere and wonderful service. I had t...</td>\n",
       "      <td>0</td>\n",
       "      <td>2aeNFntqY2QDZLADNo8iQQ</td>\n",
       "      <td>2015-06-29</td>\n",
       "    </tr>\n",
       "    <tr>\n",
       "      <th>2</th>\n",
       "      <td>--9e1ONYQuAa-CB_Rrw7Tw</td>\n",
       "      <td>Delmonico Steakhouse</td>\n",
       "      <td>['Cajun/Creole', 'Steakhouses', 'Restaurants']</td>\n",
       "      <td>4.0</td>\n",
       "      <td>0</td>\n",
       "      <td>2015-03-16</td>\n",
       "      <td>0</td>\n",
       "      <td>UVUMu_bELdA56Ryfbur-DA</td>\n",
       "      <td>5</td>\n",
       "      <td>Every year a group of us (we had 6 this year) ...</td>\n",
       "      <td>1</td>\n",
       "      <td>gmPP4YFrgYsYQqPYokMgFA</td>\n",
       "      <td>2015-03-16</td>\n",
       "    </tr>\n",
       "    <tr>\n",
       "      <th>3</th>\n",
       "      <td>--9e1ONYQuAa-CB_Rrw7Tw</td>\n",
       "      <td>Delmonico Steakhouse</td>\n",
       "      <td>['Cajun/Creole', 'Steakhouses', 'Restaurants']</td>\n",
       "      <td>4.0</td>\n",
       "      <td>0</td>\n",
       "      <td>2016-02-10</td>\n",
       "      <td>0</td>\n",
       "      <td>UxFpgng8dPMWOj99653k5Q</td>\n",
       "      <td>5</td>\n",
       "      <td>Truly Fantastic!  Best Steak ever. Service was...</td>\n",
       "      <td>0</td>\n",
       "      <td>aVOGlN9fZ-BXcbtj6dbf0g</td>\n",
       "      <td>2016-02-10</td>\n",
       "    </tr>\n",
       "    <tr>\n",
       "      <th>4</th>\n",
       "      <td>--9e1ONYQuAa-CB_Rrw7Tw</td>\n",
       "      <td>Delmonico Steakhouse</td>\n",
       "      <td>['Cajun/Creole', 'Steakhouses', 'Restaurants']</td>\n",
       "      <td>4.0</td>\n",
       "      <td>0</td>\n",
       "      <td>2017-02-14</td>\n",
       "      <td>0</td>\n",
       "      <td>Xp3ppynEvVu1KxDHQ3ae8w</td>\n",
       "      <td>5</td>\n",
       "      <td>Delmonico Steakhouse is a steakhouse owned by ...</td>\n",
       "      <td>0</td>\n",
       "      <td>KC8H7qTZVPIEnanw9fG43g</td>\n",
       "      <td>2017-02-14</td>\n",
       "    </tr>\n",
       "  </tbody>\n",
       "</table>\n",
       "</div>"
      ],
      "text/plain": [
       "              business_id                  name  \\\n",
       "0  --9e1ONYQuAa-CB_Rrw7Tw  Delmonico Steakhouse   \n",
       "1  --9e1ONYQuAa-CB_Rrw7Tw  Delmonico Steakhouse   \n",
       "2  --9e1ONYQuAa-CB_Rrw7Tw  Delmonico Steakhouse   \n",
       "3  --9e1ONYQuAa-CB_Rrw7Tw  Delmonico Steakhouse   \n",
       "4  --9e1ONYQuAa-CB_Rrw7Tw  Delmonico Steakhouse   \n",
       "\n",
       "                                       categories  avg_stars  cool  \\\n",
       "0  ['Cajun/Creole', 'Steakhouses', 'Restaurants']        4.0     0   \n",
       "1  ['Cajun/Creole', 'Steakhouses', 'Restaurants']        4.0     0   \n",
       "2  ['Cajun/Creole', 'Steakhouses', 'Restaurants']        4.0     0   \n",
       "3  ['Cajun/Creole', 'Steakhouses', 'Restaurants']        4.0     0   \n",
       "4  ['Cajun/Creole', 'Steakhouses', 'Restaurants']        4.0     0   \n",
       "\n",
       "         date  funny               review_id  stars  \\\n",
       "0  2016-03-31      0  6SgvNWJltnZhW7duJgZ42w      5   \n",
       "1  2015-06-29      0  iwx6s6yQxc7yjS7NFANZig      4   \n",
       "2  2015-03-16      0  UVUMu_bELdA56Ryfbur-DA      5   \n",
       "3  2016-02-10      0  UxFpgng8dPMWOj99653k5Q      5   \n",
       "4  2017-02-14      0  Xp3ppynEvVu1KxDHQ3ae8w      5   \n",
       "\n",
       "                                                text  useful  \\\n",
       "0  This is mine and my fiancé's favorite steakhou...       0   \n",
       "1  Nice atmosphere and wonderful service. I had t...       0   \n",
       "2  Every year a group of us (we had 6 this year) ...       1   \n",
       "3  Truly Fantastic!  Best Steak ever. Service was...       0   \n",
       "4  Delmonico Steakhouse is a steakhouse owned by ...       0   \n",
       "\n",
       "                  user_id    date_new  \n",
       "0  oFyOUOeGTRZhFPF9uTqrTQ  2016-03-31  \n",
       "1  2aeNFntqY2QDZLADNo8iQQ  2015-06-29  \n",
       "2  gmPP4YFrgYsYQqPYokMgFA  2015-03-16  \n",
       "3  aVOGlN9fZ-BXcbtj6dbf0g  2016-02-10  \n",
       "4  KC8H7qTZVPIEnanw9fG43g  2017-02-14  "
      ]
     },
     "execution_count": 3,
     "metadata": {},
     "output_type": "execute_result"
    }
   ],
   "source": [
    "df.head()"
   ]
  },
  {
   "cell_type": "markdown",
   "metadata": {},
   "source": [
    "## 1. Clean data and get rating data "
   ]
  },
  {
   "cell_type": "markdown",
   "metadata": {},
   "source": [
    "#### Select relevant columns in the original dataframe"
   ]
  },
  {
   "cell_type": "code",
   "execution_count": 10,
   "metadata": {
    "collapsed": true
   },
   "outputs": [],
   "source": [
    "recommender_df = df[['business_id', 'user_id', 'stars']]"
   ]
  },
  {
   "cell_type": "code",
   "execution_count": 11,
   "metadata": {
    "scrolled": true
   },
   "outputs": [
    {
     "data": {
      "text/html": [
       "<div>\n",
       "<style>\n",
       "    .dataframe thead tr:only-child th {\n",
       "        text-align: right;\n",
       "    }\n",
       "\n",
       "    .dataframe thead th {\n",
       "        text-align: left;\n",
       "    }\n",
       "\n",
       "    .dataframe tbody tr th {\n",
       "        vertical-align: top;\n",
       "    }\n",
       "</style>\n",
       "<table border=\"1\" class=\"dataframe\">\n",
       "  <thead>\n",
       "    <tr style=\"text-align: right;\">\n",
       "      <th></th>\n",
       "      <th>business_id</th>\n",
       "      <th>user_id</th>\n",
       "      <th>stars</th>\n",
       "    </tr>\n",
       "  </thead>\n",
       "  <tbody>\n",
       "    <tr>\n",
       "      <th>0</th>\n",
       "      <td>--9e1ONYQuAa-CB_Rrw7Tw</td>\n",
       "      <td>oFyOUOeGTRZhFPF9uTqrTQ</td>\n",
       "      <td>5</td>\n",
       "    </tr>\n",
       "    <tr>\n",
       "      <th>1</th>\n",
       "      <td>--9e1ONYQuAa-CB_Rrw7Tw</td>\n",
       "      <td>2aeNFntqY2QDZLADNo8iQQ</td>\n",
       "      <td>4</td>\n",
       "    </tr>\n",
       "    <tr>\n",
       "      <th>2</th>\n",
       "      <td>--9e1ONYQuAa-CB_Rrw7Tw</td>\n",
       "      <td>gmPP4YFrgYsYQqPYokMgFA</td>\n",
       "      <td>5</td>\n",
       "    </tr>\n",
       "    <tr>\n",
       "      <th>3</th>\n",
       "      <td>--9e1ONYQuAa-CB_Rrw7Tw</td>\n",
       "      <td>aVOGlN9fZ-BXcbtj6dbf0g</td>\n",
       "      <td>5</td>\n",
       "    </tr>\n",
       "    <tr>\n",
       "      <th>4</th>\n",
       "      <td>--9e1ONYQuAa-CB_Rrw7Tw</td>\n",
       "      <td>KC8H7qTZVPIEnanw9fG43g</td>\n",
       "      <td>5</td>\n",
       "    </tr>\n",
       "  </tbody>\n",
       "</table>\n",
       "</div>"
      ],
      "text/plain": [
       "              business_id                 user_id  stars\n",
       "0  --9e1ONYQuAa-CB_Rrw7Tw  oFyOUOeGTRZhFPF9uTqrTQ      5\n",
       "1  --9e1ONYQuAa-CB_Rrw7Tw  2aeNFntqY2QDZLADNo8iQQ      4\n",
       "2  --9e1ONYQuAa-CB_Rrw7Tw  gmPP4YFrgYsYQqPYokMgFA      5\n",
       "3  --9e1ONYQuAa-CB_Rrw7Tw  aVOGlN9fZ-BXcbtj6dbf0g      5\n",
       "4  --9e1ONYQuAa-CB_Rrw7Tw  KC8H7qTZVPIEnanw9fG43g      5"
      ]
     },
     "execution_count": 11,
     "metadata": {},
     "output_type": "execute_result"
    }
   ],
   "source": [
    "recommender_df.head()"
   ]
  },
  {
   "cell_type": "code",
   "execution_count": 13,
   "metadata": {},
   "outputs": [
    {
     "data": {
      "text/plain": [
       "227241"
      ]
     },
     "execution_count": 13,
     "metadata": {},
     "output_type": "execute_result"
    }
   ],
   "source": [
    "# Number of unique users.\n",
    "len(recommender_df['user_id'].unique())"
   ]
  },
  {
   "cell_type": "code",
   "execution_count": 14,
   "metadata": {},
   "outputs": [
    {
     "data": {
      "text/plain": [
       "4832"
      ]
     },
     "execution_count": 14,
     "metadata": {},
     "output_type": "execute_result"
    }
   ],
   "source": [
    "# Number of unique business. \n",
    "len(recommender_df['business_id'].unique())"
   ]
  },
  {
   "cell_type": "code",
   "execution_count": 15,
   "metadata": {},
   "outputs": [
    {
     "name": "stdout",
     "output_type": "stream",
     "text": [
      "<class 'pandas.core.frame.DataFrame'>\n",
      "RangeIndex: 515752 entries, 0 to 515751\n",
      "Data columns (total 3 columns):\n",
      "business_id    515752 non-null object\n",
      "user_id        515752 non-null object\n",
      "stars          515752 non-null int64\n",
      "dtypes: int64(1), object(2)\n",
      "memory usage: 11.8+ MB\n"
     ]
    }
   ],
   "source": [
    "recommender_df.info()"
   ]
  },
  {
   "cell_type": "markdown",
   "metadata": {},
   "source": [
    "#### There are many users that haven't given many reviews, exclude these users from the item-item similarity recommender\n",
    "\n",
    "**Q**: How do we recommend to these users anyways?\n",
    "**A**: Recommend items by popularity could be a solution."
   ]
  },
  {
   "cell_type": "code",
   "execution_count": 16,
   "metadata": {
    "collapsed": true
   },
   "outputs": [],
   "source": [
    "user_counts = recommender_df['user_id'].value_counts()"
   ]
  },
  {
   "cell_type": "code",
   "execution_count": 28,
   "metadata": {},
   "outputs": [
    {
     "data": {
      "text/plain": [
       "302669"
      ]
     },
     "execution_count": 28,
     "metadata": {},
     "output_type": "execute_result"
    }
   ],
   "source": [
    "# Number of users who comment less than 5 times. \n",
    "user_counts[user_counts < 5].sum()"
   ]
  },
  {
   "cell_type": "code",
   "execution_count": 40,
   "metadata": {
    "collapsed": true
   },
   "outputs": [],
   "source": [
    "# Save active users' index to a list. \n",
    "user_active = user_counts[user_counts >= 5].index.tolist()"
   ]
  },
  {
   "cell_type": "code",
   "execution_count": 51,
   "metadata": {},
   "outputs": [
    {
     "data": {
      "text/plain": [
       "19772"
      ]
     },
     "execution_count": 51,
     "metadata": {},
     "output_type": "execute_result"
    }
   ],
   "source": [
    "len(user_active)"
   ]
  },
  {
   "cell_type": "code",
   "execution_count": 44,
   "metadata": {},
   "outputs": [
    {
     "data": {
      "text/plain": [
       "['bLbSNkLggFnqwNNzzq-Ijw',\n",
       " 'JaqcCU3nxReTW2cBLHounA',\n",
       " 'PKEzKWv_FktMm2mGPjwd0Q',\n",
       " 'B1829_hxXSEpDPEDJtYeIw',\n",
       " 'U4INQZOPSUaj8hMjLlZ3KA']"
      ]
     },
     "execution_count": 44,
     "metadata": {},
     "output_type": "execute_result"
    }
   ],
   "source": [
    "user_active[:5]"
   ]
  },
  {
   "cell_type": "code",
   "execution_count": 45,
   "metadata": {
    "collapsed": true
   },
   "outputs": [],
   "source": [
    "# Exclude users who comment less than 5 times, save data in 'recommend_active_df'.\n",
    "recommend_active_df = recommender_df[recommender_df.user_id.isin(user_active)]"
   ]
  },
  {
   "cell_type": "markdown",
   "metadata": {},
   "source": [
    "#### Create utility matrix from records"
   ]
  },
  {
   "cell_type": "code",
   "execution_count": 48,
   "metadata": {
    "collapsed": true
   },
   "outputs": [],
   "source": [
    "# To be implemented\n",
    "\n",
    "df_utility = pd.pivot_table(data = recommend_active_df,\n",
    "                            values = 'stars',\n",
    "                            index = 'user_id',\n",
    "                            columns = 'business_id',\n",
    "                            fill_value = 0)"
   ]
  },
  {
   "cell_type": "code",
   "execution_count": 49,
   "metadata": {},
   "outputs": [
    {
     "data": {
      "text/plain": [
       "(19772, 4593)"
      ]
     },
     "execution_count": 49,
     "metadata": {},
     "output_type": "execute_result"
    }
   ],
   "source": [
    "df_utility.shape"
   ]
  },
  {
   "cell_type": "code",
   "execution_count": 50,
   "metadata": {},
   "outputs": [
    {
     "data": {
      "text/html": [
       "<div>\n",
       "<style>\n",
       "    .dataframe thead tr:only-child th {\n",
       "        text-align: right;\n",
       "    }\n",
       "\n",
       "    .dataframe thead th {\n",
       "        text-align: left;\n",
       "    }\n",
       "\n",
       "    .dataframe tbody tr th {\n",
       "        vertical-align: top;\n",
       "    }\n",
       "</style>\n",
       "<table border=\"1\" class=\"dataframe\">\n",
       "  <thead>\n",
       "    <tr style=\"text-align: right;\">\n",
       "      <th>business_id</th>\n",
       "      <th>--9e1ONYQuAa-CB_Rrw7Tw</th>\n",
       "      <th>-1m9o3vGRA8IBPNvNqKLmA</th>\n",
       "      <th>-1vfRrlnNnNJ5boOVghMPA</th>\n",
       "      <th>-3zffZUHoY8bQjGfPSoBKQ</th>\n",
       "      <th>-8R_-EkGpUhBk55K9Dd4mg</th>\n",
       "      <th>-9YyInW1wapzdNZrhQJ9dg</th>\n",
       "      <th>-AD5PiuJHgdUcAK-Vxao2A</th>\n",
       "      <th>-ADtl9bLp8wNqYX1k3KuxA</th>\n",
       "      <th>-BS4aZAQm9u41YnB9MUASA</th>\n",
       "      <th>-Bf8BQ3yMk8U2f45r2DRKw</th>\n",
       "      <th>...</th>\n",
       "      <th>zmltWmTpoBt5sCU-5Kzj-Q</th>\n",
       "      <th>znWHLW1pt19HzW1VY6KfCA</th>\n",
       "      <th>zp-K5s3pGTWuuaVBWo6WZA</th>\n",
       "      <th>zpoZ6WyQUYff18-z4ZU1mA</th>\n",
       "      <th>zrQ1zKWC-W2PCvwjBururQ</th>\n",
       "      <th>zsQk990PubOHjr1YcLkQFw</th>\n",
       "      <th>zt9RLUIU32fZYOBh2L0NNQ</th>\n",
       "      <th>zttcrQP4MxNS5X5itzStXg</th>\n",
       "      <th>zuwba6QEBIDZT0tJZmNhdQ</th>\n",
       "      <th>zwNC-Ow4eIMan2__bS9-rg</th>\n",
       "    </tr>\n",
       "    <tr>\n",
       "      <th>user_id</th>\n",
       "      <th></th>\n",
       "      <th></th>\n",
       "      <th></th>\n",
       "      <th></th>\n",
       "      <th></th>\n",
       "      <th></th>\n",
       "      <th></th>\n",
       "      <th></th>\n",
       "      <th></th>\n",
       "      <th></th>\n",
       "      <th></th>\n",
       "      <th></th>\n",
       "      <th></th>\n",
       "      <th></th>\n",
       "      <th></th>\n",
       "      <th></th>\n",
       "      <th></th>\n",
       "      <th></th>\n",
       "      <th></th>\n",
       "      <th></th>\n",
       "      <th></th>\n",
       "    </tr>\n",
       "  </thead>\n",
       "  <tbody>\n",
       "    <tr>\n",
       "      <th>---1lKK3aKOuomHnwAkAow</th>\n",
       "      <td>0</td>\n",
       "      <td>0</td>\n",
       "      <td>0</td>\n",
       "      <td>0</td>\n",
       "      <td>0</td>\n",
       "      <td>0</td>\n",
       "      <td>0</td>\n",
       "      <td>0</td>\n",
       "      <td>0</td>\n",
       "      <td>0</td>\n",
       "      <td>...</td>\n",
       "      <td>0</td>\n",
       "      <td>0</td>\n",
       "      <td>0</td>\n",
       "      <td>0</td>\n",
       "      <td>0</td>\n",
       "      <td>0</td>\n",
       "      <td>0</td>\n",
       "      <td>0</td>\n",
       "      <td>0</td>\n",
       "      <td>0</td>\n",
       "    </tr>\n",
       "    <tr>\n",
       "      <th>--LUapetRSkZpFZ2d-MXLQ</th>\n",
       "      <td>0</td>\n",
       "      <td>0</td>\n",
       "      <td>0</td>\n",
       "      <td>0</td>\n",
       "      <td>0</td>\n",
       "      <td>0</td>\n",
       "      <td>0</td>\n",
       "      <td>0</td>\n",
       "      <td>0</td>\n",
       "      <td>0</td>\n",
       "      <td>...</td>\n",
       "      <td>0</td>\n",
       "      <td>0</td>\n",
       "      <td>0</td>\n",
       "      <td>0</td>\n",
       "      <td>0</td>\n",
       "      <td>0</td>\n",
       "      <td>0</td>\n",
       "      <td>0</td>\n",
       "      <td>0</td>\n",
       "      <td>0</td>\n",
       "    </tr>\n",
       "    <tr>\n",
       "      <th>--RlSfc-QmcHFGHyX6aVjA</th>\n",
       "      <td>0</td>\n",
       "      <td>0</td>\n",
       "      <td>0</td>\n",
       "      <td>0</td>\n",
       "      <td>0</td>\n",
       "      <td>0</td>\n",
       "      <td>0</td>\n",
       "      <td>0</td>\n",
       "      <td>0</td>\n",
       "      <td>0</td>\n",
       "      <td>...</td>\n",
       "      <td>0</td>\n",
       "      <td>0</td>\n",
       "      <td>0</td>\n",
       "      <td>0</td>\n",
       "      <td>0</td>\n",
       "      <td>0</td>\n",
       "      <td>0</td>\n",
       "      <td>0</td>\n",
       "      <td>0</td>\n",
       "      <td>0</td>\n",
       "    </tr>\n",
       "    <tr>\n",
       "      <th>--ZNfWKj1VyVElRx6-g1fg</th>\n",
       "      <td>0</td>\n",
       "      <td>0</td>\n",
       "      <td>0</td>\n",
       "      <td>0</td>\n",
       "      <td>0</td>\n",
       "      <td>0</td>\n",
       "      <td>0</td>\n",
       "      <td>0</td>\n",
       "      <td>0</td>\n",
       "      <td>0</td>\n",
       "      <td>...</td>\n",
       "      <td>0</td>\n",
       "      <td>0</td>\n",
       "      <td>0</td>\n",
       "      <td>0</td>\n",
       "      <td>0</td>\n",
       "      <td>3</td>\n",
       "      <td>0</td>\n",
       "      <td>0</td>\n",
       "      <td>0</td>\n",
       "      <td>0</td>\n",
       "    </tr>\n",
       "    <tr>\n",
       "      <th>-00kdEIhCt-ODaV4BS-EAg</th>\n",
       "      <td>0</td>\n",
       "      <td>0</td>\n",
       "      <td>0</td>\n",
       "      <td>0</td>\n",
       "      <td>0</td>\n",
       "      <td>0</td>\n",
       "      <td>0</td>\n",
       "      <td>0</td>\n",
       "      <td>0</td>\n",
       "      <td>0</td>\n",
       "      <td>...</td>\n",
       "      <td>0</td>\n",
       "      <td>0</td>\n",
       "      <td>0</td>\n",
       "      <td>0</td>\n",
       "      <td>0</td>\n",
       "      <td>0</td>\n",
       "      <td>0</td>\n",
       "      <td>0</td>\n",
       "      <td>0</td>\n",
       "      <td>0</td>\n",
       "    </tr>\n",
       "  </tbody>\n",
       "</table>\n",
       "<p>5 rows × 4593 columns</p>\n",
       "</div>"
      ],
      "text/plain": [
       "business_id             --9e1ONYQuAa-CB_Rrw7Tw  -1m9o3vGRA8IBPNvNqKLmA  \\\n",
       "user_id                                                                  \n",
       "---1lKK3aKOuomHnwAkAow                       0                       0   \n",
       "--LUapetRSkZpFZ2d-MXLQ                       0                       0   \n",
       "--RlSfc-QmcHFGHyX6aVjA                       0                       0   \n",
       "--ZNfWKj1VyVElRx6-g1fg                       0                       0   \n",
       "-00kdEIhCt-ODaV4BS-EAg                       0                       0   \n",
       "\n",
       "business_id             -1vfRrlnNnNJ5boOVghMPA  -3zffZUHoY8bQjGfPSoBKQ  \\\n",
       "user_id                                                                  \n",
       "---1lKK3aKOuomHnwAkAow                       0                       0   \n",
       "--LUapetRSkZpFZ2d-MXLQ                       0                       0   \n",
       "--RlSfc-QmcHFGHyX6aVjA                       0                       0   \n",
       "--ZNfWKj1VyVElRx6-g1fg                       0                       0   \n",
       "-00kdEIhCt-ODaV4BS-EAg                       0                       0   \n",
       "\n",
       "business_id             -8R_-EkGpUhBk55K9Dd4mg  -9YyInW1wapzdNZrhQJ9dg  \\\n",
       "user_id                                                                  \n",
       "---1lKK3aKOuomHnwAkAow                       0                       0   \n",
       "--LUapetRSkZpFZ2d-MXLQ                       0                       0   \n",
       "--RlSfc-QmcHFGHyX6aVjA                       0                       0   \n",
       "--ZNfWKj1VyVElRx6-g1fg                       0                       0   \n",
       "-00kdEIhCt-ODaV4BS-EAg                       0                       0   \n",
       "\n",
       "business_id             -AD5PiuJHgdUcAK-Vxao2A  -ADtl9bLp8wNqYX1k3KuxA  \\\n",
       "user_id                                                                  \n",
       "---1lKK3aKOuomHnwAkAow                       0                       0   \n",
       "--LUapetRSkZpFZ2d-MXLQ                       0                       0   \n",
       "--RlSfc-QmcHFGHyX6aVjA                       0                       0   \n",
       "--ZNfWKj1VyVElRx6-g1fg                       0                       0   \n",
       "-00kdEIhCt-ODaV4BS-EAg                       0                       0   \n",
       "\n",
       "business_id             -BS4aZAQm9u41YnB9MUASA  -Bf8BQ3yMk8U2f45r2DRKw  \\\n",
       "user_id                                                                  \n",
       "---1lKK3aKOuomHnwAkAow                       0                       0   \n",
       "--LUapetRSkZpFZ2d-MXLQ                       0                       0   \n",
       "--RlSfc-QmcHFGHyX6aVjA                       0                       0   \n",
       "--ZNfWKj1VyVElRx6-g1fg                       0                       0   \n",
       "-00kdEIhCt-ODaV4BS-EAg                       0                       0   \n",
       "\n",
       "business_id                      ...            zmltWmTpoBt5sCU-5Kzj-Q  \\\n",
       "user_id                          ...                                     \n",
       "---1lKK3aKOuomHnwAkAow           ...                                 0   \n",
       "--LUapetRSkZpFZ2d-MXLQ           ...                                 0   \n",
       "--RlSfc-QmcHFGHyX6aVjA           ...                                 0   \n",
       "--ZNfWKj1VyVElRx6-g1fg           ...                                 0   \n",
       "-00kdEIhCt-ODaV4BS-EAg           ...                                 0   \n",
       "\n",
       "business_id             znWHLW1pt19HzW1VY6KfCA  zp-K5s3pGTWuuaVBWo6WZA  \\\n",
       "user_id                                                                  \n",
       "---1lKK3aKOuomHnwAkAow                       0                       0   \n",
       "--LUapetRSkZpFZ2d-MXLQ                       0                       0   \n",
       "--RlSfc-QmcHFGHyX6aVjA                       0                       0   \n",
       "--ZNfWKj1VyVElRx6-g1fg                       0                       0   \n",
       "-00kdEIhCt-ODaV4BS-EAg                       0                       0   \n",
       "\n",
       "business_id             zpoZ6WyQUYff18-z4ZU1mA  zrQ1zKWC-W2PCvwjBururQ  \\\n",
       "user_id                                                                  \n",
       "---1lKK3aKOuomHnwAkAow                       0                       0   \n",
       "--LUapetRSkZpFZ2d-MXLQ                       0                       0   \n",
       "--RlSfc-QmcHFGHyX6aVjA                       0                       0   \n",
       "--ZNfWKj1VyVElRx6-g1fg                       0                       0   \n",
       "-00kdEIhCt-ODaV4BS-EAg                       0                       0   \n",
       "\n",
       "business_id             zsQk990PubOHjr1YcLkQFw  zt9RLUIU32fZYOBh2L0NNQ  \\\n",
       "user_id                                                                  \n",
       "---1lKK3aKOuomHnwAkAow                       0                       0   \n",
       "--LUapetRSkZpFZ2d-MXLQ                       0                       0   \n",
       "--RlSfc-QmcHFGHyX6aVjA                       0                       0   \n",
       "--ZNfWKj1VyVElRx6-g1fg                       3                       0   \n",
       "-00kdEIhCt-ODaV4BS-EAg                       0                       0   \n",
       "\n",
       "business_id             zttcrQP4MxNS5X5itzStXg  zuwba6QEBIDZT0tJZmNhdQ  \\\n",
       "user_id                                                                  \n",
       "---1lKK3aKOuomHnwAkAow                       0                       0   \n",
       "--LUapetRSkZpFZ2d-MXLQ                       0                       0   \n",
       "--RlSfc-QmcHFGHyX6aVjA                       0                       0   \n",
       "--ZNfWKj1VyVElRx6-g1fg                       0                       0   \n",
       "-00kdEIhCt-ODaV4BS-EAg                       0                       0   \n",
       "\n",
       "business_id             zwNC-Ow4eIMan2__bS9-rg  \n",
       "user_id                                         \n",
       "---1lKK3aKOuomHnwAkAow                       0  \n",
       "--LUapetRSkZpFZ2d-MXLQ                       0  \n",
       "--RlSfc-QmcHFGHyX6aVjA                       0  \n",
       "--ZNfWKj1VyVElRx6-g1fg                       0  \n",
       "-00kdEIhCt-ODaV4BS-EAg                       0  \n",
       "\n",
       "[5 rows x 4593 columns]"
      ]
     },
     "execution_count": 50,
     "metadata": {},
     "output_type": "execute_result"
    }
   ],
   "source": [
    "df_utility.head()"
   ]
  },
  {
   "cell_type": "markdown",
   "metadata": {},
   "source": [
    "## 2. Item-Item similarity recommender"
   ]
  },
  {
   "cell_type": "markdown",
   "metadata": {},
   "source": [
    "### Let's reuse the ItemItemRecommender class derived from previous exercise\n",
    "\n",
    "Hint: we need to make modification to accommodate the dense numpy array"
   ]
  },
  {
   "cell_type": "code",
   "execution_count": 53,
   "metadata": {
    "collapsed": true
   },
   "outputs": [],
   "source": [
    "# Calculate item-item similarity matrix\n",
    "from sklearn.metrics.pairwise import cosine_similarity\n",
    "\n",
    "item_sim = cosine_similarity(df_utility.T)"
   ]
  },
  {
   "cell_type": "code",
   "execution_count": 54,
   "metadata": {},
   "outputs": [
    {
     "data": {
      "text/plain": [
       "(4593, 4593)"
      ]
     },
     "execution_count": 54,
     "metadata": {},
     "output_type": "execute_result"
    }
   ],
   "source": [
    "item_sim.shape"
   ]
  },
  {
   "cell_type": "code",
   "execution_count": 55,
   "metadata": {
    "collapsed": true
   },
   "outputs": [],
   "source": [
    "# Calculate neighborhood\n",
    "least_to_most_sim_indexes = np.argsort(item_sim, axis = 1)"
   ]
  },
  {
   "cell_type": "code",
   "execution_count": 96,
   "metadata": {
    "collapsed": true
   },
   "outputs": [],
   "source": [
    "neighborhood_size = 500 \n",
    "\n",
    "neighborhood = least_to_most_sim_indexes[:, -neighborhood_size:]"
   ]
  },
  {
   "cell_type": "code",
   "execution_count": 68,
   "metadata": {},
   "outputs": [
    {
     "data": {
      "text/plain": [
       "(4593, 200)"
      ]
     },
     "execution_count": 68,
     "metadata": {},
     "output_type": "execute_result"
    }
   ],
   "source": [
    "neighborhood.shape"
   ]
  },
  {
   "cell_type": "code",
   "execution_count": 95,
   "metadata": {},
   "outputs": [
    {
     "data": {
      "text/plain": [
       "(array([ 266,  528, 1175, 1496, 1880, 1947, 1963, 2037, 3203, 3746, 3774,\n",
       "        4459, 4584]),)"
      ]
     },
     "execution_count": 95,
     "metadata": {},
     "output_type": "execute_result"
    }
   ],
   "source": [
    "# Make rating prediction on a user\n",
    "\n",
    "user_id = 520\n",
    "\n",
    "df_utility.iloc[user_id, :].nonzero()"
   ]
  },
  {
   "cell_type": "code",
   "execution_count": 100,
   "metadata": {},
   "outputs": [
    {
     "data": {
      "text/plain": [
       "numpy.ndarray"
      ]
     },
     "execution_count": 100,
     "metadata": {},
     "output_type": "execute_result"
    }
   ],
   "source": [
    "type(item_sim)"
   ]
  },
  {
   "cell_type": "code",
   "execution_count": 116,
   "metadata": {},
   "outputs": [
    {
     "name": "stderr",
     "output_type": "stream",
     "text": [
      "/anaconda3/lib/python3.6/site-packages/ipykernel_launcher.py:11: RuntimeWarning: invalid value encountered in double_scalars\n",
      "  # This is added back by InteractiveShellApp.init_path()\n"
     ]
    },
    {
     "name": "stdout",
     "output_type": "stream",
     "text": [
      "[ 4.          3.37834083  3.         ...,  3.          4.          4.        ]\n"
     ]
    }
   ],
   "source": [
    "n_users = df_utility.shape[0]\n",
    "n_items = df_utility.shape[1]\n",
    "\n",
    "item_rated_by_the_user = df_utility.iloc[user_id, :].nonzero()[0]\n",
    "\n",
    "out = np.zeros(n_items)\n",
    "for item_to_rate in range(n_items):\n",
    "    relevant_items = np.intersect1d(neighborhood[item_to_rate],\n",
    "                                    item_rated_by_the_user,\n",
    "                                    assume_unique = True)\n",
    "    out[item_to_rate] = (df_utility.as_matrix()[user_id, relevant_items] * \\\n",
    "                        item_sim[user_id, relevant_items]).sum() / \\\n",
    "                        item_sim[user_id, relevant_items].sum()\n",
    "            \n",
    "pred_ratings = np.nan_to_num(out)\n",
    "print(pred_ratings)"
   ]
  },
  {
   "cell_type": "code",
   "execution_count": 164,
   "metadata": {
    "collapsed": true
   },
   "outputs": [],
   "source": [
    "# Set final recommendations number equal to 10 for a user.\n",
    "n = 10\n",
    "\n",
    "# Sort item index by pred_ratings.\n",
    "item_index_sorted = pred_ratings.argsort()[::-1]\n",
    "\n",
    "# Item rated by the user. \n",
    "item_rated_by_the_user = df_utility.iloc[user_id, :].nonzero()[0]\n",
    "\n"
   ]
  },
  {
   "cell_type": "code",
   "execution_count": 165,
   "metadata": {},
   "outputs": [
    {
     "name": "stdout",
     "output_type": "stream",
     "text": [
      "[1127, 928, 3497, 3056, 1787, 1031, 2689, 3483, 3345, 4441]\n"
     ]
    }
   ],
   "source": [
    "# Make recommendation list of businesses that have not been rated by the user. \n",
    "item_to_recommend = []\n",
    "for item in item_index_sorted:\n",
    "    if item not in item_rated_by_the_user:\n",
    "        item_to_recommend.append(item)\n",
    "        if len(item_to_recommend) == n:\n",
    "            break\n",
    "print(item_to_recommend)"
   ]
  },
  {
   "cell_type": "code",
   "execution_count": 166,
   "metadata": {},
   "outputs": [
    {
     "data": {
      "text/html": [
       "<div>\n",
       "<style>\n",
       "    .dataframe thead tr:only-child th {\n",
       "        text-align: right;\n",
       "    }\n",
       "\n",
       "    .dataframe thead th {\n",
       "        text-align: left;\n",
       "    }\n",
       "\n",
       "    .dataframe tbody tr th {\n",
       "        vertical-align: top;\n",
       "    }\n",
       "</style>\n",
       "<table border=\"1\" class=\"dataframe\">\n",
       "  <thead>\n",
       "    <tr style=\"text-align: right;\">\n",
       "      <th></th>\n",
       "      <th>business_id</th>\n",
       "    </tr>\n",
       "  </thead>\n",
       "  <tbody>\n",
       "    <tr>\n",
       "      <th>1127</th>\n",
       "      <td>-Bf8BQ3yMk8U2f45r2DRKw</td>\n",
       "    </tr>\n",
       "    <tr>\n",
       "      <th>928</th>\n",
       "      <td>-ADtl9bLp8wNqYX1k3KuxA</td>\n",
       "    </tr>\n",
       "    <tr>\n",
       "      <th>3497</th>\n",
       "      <td>-U7tvCtaraTQ9b0zBhpBMA</td>\n",
       "    </tr>\n",
       "    <tr>\n",
       "      <th>3056</th>\n",
       "      <td>-Qkx7W0itbAApcG5lJuMFQ</td>\n",
       "    </tr>\n",
       "    <tr>\n",
       "      <th>1787</th>\n",
       "      <td>-IWsoxH7mLJTTpU5MmWY4w</td>\n",
       "    </tr>\n",
       "    <tr>\n",
       "      <th>1031</th>\n",
       "      <td>-ADtl9bLp8wNqYX1k3KuxA</td>\n",
       "    </tr>\n",
       "    <tr>\n",
       "      <th>2689</th>\n",
       "      <td>-PGsEXB6DFTVKa1eDOlzWA</td>\n",
       "    </tr>\n",
       "    <tr>\n",
       "      <th>3483</th>\n",
       "      <td>-U7tvCtaraTQ9b0zBhpBMA</td>\n",
       "    </tr>\n",
       "    <tr>\n",
       "      <th>3345</th>\n",
       "      <td>-U7tvCtaraTQ9b0zBhpBMA</td>\n",
       "    </tr>\n",
       "    <tr>\n",
       "      <th>4441</th>\n",
       "      <td>-Ylpy3VyRWwubf9dysuwjQ</td>\n",
       "    </tr>\n",
       "  </tbody>\n",
       "</table>\n",
       "</div>"
      ],
      "text/plain": [
       "                 business_id\n",
       "1127  -Bf8BQ3yMk8U2f45r2DRKw\n",
       "928   -ADtl9bLp8wNqYX1k3KuxA\n",
       "3497  -U7tvCtaraTQ9b0zBhpBMA\n",
       "3056  -Qkx7W0itbAApcG5lJuMFQ\n",
       "1787  -IWsoxH7mLJTTpU5MmWY4w\n",
       "1031  -ADtl9bLp8wNqYX1k3KuxA\n",
       "2689  -PGsEXB6DFTVKa1eDOlzWA\n",
       "3483  -U7tvCtaraTQ9b0zBhpBMA\n",
       "3345  -U7tvCtaraTQ9b0zBhpBMA\n",
       "4441  -Ylpy3VyRWwubf9dysuwjQ"
      ]
     },
     "execution_count": 166,
     "metadata": {},
     "output_type": "execute_result"
    }
   ],
   "source": [
    "# Print out associated business_id\n",
    "pd.DataFrame(recommender_df['business_id'][item_to_recommend], columns = ['business_id'], index = item_to_recommend)"
   ]
  },
  {
   "cell_type": "markdown",
   "metadata": {},
   "source": [
    "## 3. Matrix Factorization recommender\n",
    "\n",
    "##### Compare two of the methods demoed in Practice Class: sklearn NMF, sklearn TruncatedSVD, or GraphLab\n",
    "##### *Extra points for using GraphLab"
   ]
  },
  {
   "cell_type": "markdown",
   "metadata": {},
   "source": []
  },
  {
   "cell_type": "markdown",
   "metadata": {},
   "source": [
    "##### Prepare rating matrix "
   ]
  },
  {
   "cell_type": "code",
   "execution_count": 144,
   "metadata": {},
   "outputs": [
    {
     "data": {
      "text/plain": [
       "(19772, 4593)"
      ]
     },
     "execution_count": 144,
     "metadata": {},
     "output_type": "execute_result"
    }
   ],
   "source": [
    "df_utility.shape"
   ]
  },
  {
   "cell_type": "code",
   "execution_count": 154,
   "metadata": {
    "collapsed": true
   },
   "outputs": [],
   "source": [
    "ratings_mat = df_utility.as_matrix()"
   ]
  },
  {
   "cell_type": "markdown",
   "metadata": {},
   "source": [
    "##### NMF"
   ]
  },
  {
   "cell_type": "code",
   "execution_count": 156,
   "metadata": {},
   "outputs": [
    {
     "data": {
      "text/plain": [
       "NMF(alpha=0.0, beta_loss='frobenius', init=None, l1_ratio=0.0, max_iter=200,\n",
       "  n_components=200, random_state=None, shuffle=False, solver='cd',\n",
       "  tol=0.0001, verbose=0)"
      ]
     },
     "execution_count": 156,
     "metadata": {},
     "output_type": "execute_result"
    }
   ],
   "source": [
    "\n",
    "from sklearn.decomposition import NMF\n",
    "n_components = 200\n",
    "\n",
    "nmf = NMF(n_components = 200)\n",
    "nmf.fit(ratings_mat)"
   ]
  },
  {
   "cell_type": "code",
   "execution_count": 157,
   "metadata": {},
   "outputs": [
    {
     "name": "stdout",
     "output_type": "stream",
     "text": [
      "1508.40501437\n",
      "(19772, 200) (200, 4593)\n"
     ]
    }
   ],
   "source": [
    "# V = W * H, get W, H and error.\n",
    "W = nmf.transform(ratings_mat)\n",
    "H = nmf.components_\n",
    "err = nmf.reconstruction_err_\n",
    "\n",
    "print(err)\n",
    "print(W.shape, H.shape)"
   ]
  },
  {
   "cell_type": "code",
   "execution_count": 160,
   "metadata": {},
   "outputs": [
    {
     "name": "stdout",
     "output_type": "stream",
     "text": [
      "10.1508932859\n",
      "2.5717541979\n"
     ]
    }
   ],
   "source": [
    "# Reconstruct\n",
    "ratings_mat_fitted = W.dot(H)\n",
    "errs = np.array((ratings_mat - ratings_mat_fitted).flatten()).squeeze()\n",
    "mask = np.array((ratings_mat).flatten()).squeeze() > 0\n",
    "\n",
    "mse = np.mean(errs[mask]**2)\n",
    "average_abs_err = abs(errs[mask]).mean()\n",
    "\n",
    "print(mse)\n",
    "print(average_abs_err)"
   ]
  },
  {
   "cell_type": "code",
   "execution_count": 167,
   "metadata": {},
   "outputs": [
    {
     "name": "stdout",
     "output_type": "stream",
     "text": [
      "Bussiness recommended to user_id = 520:\n",
      "[4237, 3738, 610, 2500, 1021, 1406, 4289, 629, 39, 4419]\n"
     ]
    }
   ],
   "source": [
    "# Get top n recommendations for the user i. \n",
    "user_id = 520\n",
    "n = 10\n",
    "\n",
    "pred_ratings_by_useri = ratings_mat_fitted[user_id, :]\n",
    "\n",
    "# Sort item index by pred_ratings.\n",
    "item_index_sorted = pred_ratings_by_useri.argsort()[::-1]\n",
    "\n",
    "# Item rated by the user. \n",
    "item_rated_by_the_user = df_utility.iloc[user_id, :].nonzero()[0] ## Difference between 【0】 and 【1】\n",
    "\n",
    "# Predicted ratings of items not rated by the user.\n",
    "item_to_recommend_nmf = [item for item in item_index_sorted if item not in item_rated_by_the_user]\n",
    "\n",
    "# Recommend n items for user i. \n",
    "print('Bussiness recommended to user_id = %s:' % user_id)\n",
    "print(item_to_recommend_nmf[:n])"
   ]
  },
  {
   "cell_type": "code",
   "execution_count": 198,
   "metadata": {},
   "outputs": [
    {
     "name": "stdout",
     "output_type": "stream",
     "text": [
      "Mean Error of user_id = 520: 3.00468401218\n",
      "    pred_rating  true_rating\n",
      "0      0.066278            5\n",
      "1      0.078042            4\n",
      "2      0.038350            3\n",
      "3      0.115079            1\n",
      "4      4.927687            5\n",
      "5      4.049087            4\n",
      "6      0.062212            2\n",
      "7      0.109439            4\n",
      "8      0.195866            5\n",
      "9      0.097756            4\n",
      "10     0.097341            4\n",
      "11     0.062489            4\n",
      "12     0.137656            4\n"
     ]
    }
   ],
   "source": [
    "# Check errors of ratings of items rated by the user.\n",
    "\n",
    "ratings_true = df_utility.as_matrix()[user_id, item_rated_by_the_user]\n",
    "\n",
    "ratings_pred = pred_ratings_by_useri[item_rated_by_the_user]\n",
    "\n",
    "err_one_user = ratings_true - ratings_pred\n",
    "\n",
    "print('Mean Error of user_id = %s:' % user_id, abs(err_one_user).mean())\n",
    "print(pd.DataFrame({'true_rating': ratings_true, 'pred_rating': ratings_pred}))"
   ]
  },
  {
   "cell_type": "markdown",
   "metadata": {},
   "source": [
    "##### UVD/SVD"
   ]
  },
  {
   "cell_type": "code",
   "execution_count": 199,
   "metadata": {},
   "outputs": [
    {
     "data": {
      "text/plain": [
       "TruncatedSVD(algorithm='randomized', n_components=200, n_iter=7,\n",
       "       random_state=0, tol=0.0)"
      ]
     },
     "execution_count": 199,
     "metadata": {},
     "output_type": "execute_result"
    }
   ],
   "source": [
    "from sklearn.decomposition import TruncatedSVD\n",
    "\n",
    "svd = TruncatedSVD(n_components = 200, n_iter = 7, random_state = 0)\n",
    "svd.fit(ratings_mat)"
   ]
  },
  {
   "cell_type": "code",
   "execution_count": 200,
   "metadata": {},
   "outputs": [
    {
     "name": "stdout",
     "output_type": "stream",
     "text": [
      "(19772, 200) (200, 4593)\n"
     ]
    }
   ],
   "source": [
    "# X = U * V\n",
    "\n",
    "V = svd.components_\n",
    "U = svd.transform(ratings_mat)\n",
    "\n",
    "print(U.shape, V.shape)"
   ]
  },
  {
   "cell_type": "code",
   "execution_count": 201,
   "metadata": {},
   "outputs": [
    {
     "name": "stdout",
     "output_type": "stream",
     "text": [
      "9.09550132729\n",
      "2.4959239724\n"
     ]
    }
   ],
   "source": [
    "# Reconstruct\n",
    "ratings_mat_fitted = U.dot(V)\n",
    "\n",
    "errs = np.array((ratings_mat - ratings_mat_fitted).flatten()).squeeze()\n",
    "mask = np.array((ratings_mat).flatten()).squeeze() > 0\n",
    "\n",
    "mse = np.mean(errs[mask]**2)\n",
    "average_abs_err = abs(errs[mask]).mean()\n",
    "\n",
    "print(mse)\n",
    "print(average_abs_err)"
   ]
  },
  {
   "cell_type": "code",
   "execution_count": 202,
   "metadata": {},
   "outputs": [
    {
     "name": "stdout",
     "output_type": "stream",
     "text": [
      "Bussiness recommended to user_id = 520:\n",
      "[4237, 3820, 1966, 2500, 4036, 3813, 2749, 3107, 2143, 493]\n"
     ]
    }
   ],
   "source": [
    "# Get top n recommendations for the user i. \n",
    "user_id = 520\n",
    "n = 10\n",
    "\n",
    "pred_ratings_by_useri = ratings_mat_fitted[user_id, :]\n",
    "\n",
    "# Sort item index by pred_ratings.\n",
    "item_index_sorted = pred_ratings_by_useri.argsort()[::-1]\n",
    "\n",
    "# Item rated by the user. \n",
    "item_rated_by_the_user = df_utility.iloc[user_id, :].nonzero()[0]\n",
    "\n",
    "# Predicted ratings of items not rated by the user.\n",
    "item_to_recommend_uvd = [item for item in item_index_sorted if item not in item_rated_by_the_user]\n",
    "\n",
    "# Recommend n items for user i. \n",
    "print('Bussiness recommended to user_id = %s:' % user_id)\n",
    "print(item_to_recommend_uvd[:n])"
   ]
  },
  {
   "cell_type": "code",
   "execution_count": 205,
   "metadata": {},
   "outputs": [
    {
     "name": "stdout",
     "output_type": "stream",
     "text": [
      "Mean Error of user_id = 520: 3.11071117174\n",
      "    pred_rating  true_rating\n",
      "0      0.094367            5\n",
      "1      0.427972            4\n",
      "2      0.124837            3\n",
      "3      0.166637            1\n",
      "4      2.013691            5\n",
      "5      4.024185            4\n",
      "6      0.157256            2\n",
      "7      0.810088            4\n",
      "8      0.148762            5\n",
      "9      0.226940            4\n",
      "10     0.112524            4\n",
      "11     0.156473            4\n",
      "12     0.145390            4\n"
     ]
    }
   ],
   "source": [
    "# Check errors of ratings of items rated by the user.\n",
    "\n",
    "ratings_true = df_utility.as_matrix()[user_id, item_rated_by_the_user]\n",
    "\n",
    "ratings_pred = pred_ratings_by_useri[item_rated_by_the_user]\n",
    "\n",
    "err_one_user = ratings_true - ratings_pred\n",
    "\n",
    "print('Mean Error of user_id = %s:' % user_id, abs(err_one_user).mean())\n",
    "print(pd.DataFrame({'true_rating': ratings_true, 'pred_rating': ratings_pred}))"
   ]
  },
  {
   "cell_type": "code",
   "execution_count": 204,
   "metadata": {},
   "outputs": [
    {
     "data": {
      "text/plain": [
       "array([2500, 4237])"
      ]
     },
     "execution_count": 204,
     "metadata": {},
     "output_type": "execute_result"
    }
   ],
   "source": [
    "# Find out common business between top 10 recommendations of NMF and UVD methods.\n",
    "top10_common_recommend = np.intersect1d(item_to_recommend_nmf[:n], item_to_recommend_uvd[:n])"
   ]
  },
  {
   "cell_type": "markdown",
   "metadata": {},
   "source": [
    "## 4. Other recommenders (optional)\n",
    "\n",
    "What are other ways you can build a better recommender?\n",
    "\n",
    "* Other features (have you noticed there are other features in the Yelp dataset, e.g. tips, etc.?)\n",
    "* Popularity-based\n",
    "* Content-based\n",
    "* Hybrid"
   ]
  },
  {
   "cell_type": "code",
   "execution_count": null,
   "metadata": {
    "collapsed": true
   },
   "outputs": [],
   "source": []
  }
 ],
 "metadata": {
  "anaconda-cloud": {},
  "kernelspec": {
   "display_name": "Python 3",
   "language": "python",
   "name": "python3"
  },
  "language_info": {
   "codemirror_mode": {
    "name": "ipython",
    "version": 3
   },
   "file_extension": ".py",
   "mimetype": "text/x-python",
   "name": "python",
   "nbconvert_exporter": "python",
   "pygments_lexer": "ipython3",
   "version": "3.6.3"
  }
 },
 "nbformat": 4,
 "nbformat_minor": 1
}
